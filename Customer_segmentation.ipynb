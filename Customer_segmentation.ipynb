{
  "cells": [
    {
      "cell_type": "markdown",
      "metadata": {
        "id": "view-in-github",
        "colab_type": "text"
      },
      "source": [
        "<a href=\"https://colab.research.google.com/github/iam-ajitkumartoppo/customer_segmentation/blob/main/Customer_segmentation.ipynb\" target=\"_parent\"><img src=\"https://colab.research.google.com/assets/colab-badge.svg\" alt=\"Open In Colab\"/></a>"
      ]
    },
    {
      "cell_type": "markdown",
      "id": "d3cbcc38",
      "metadata": {
        "id": "d3cbcc38"
      },
      "source": [
        "<h2 style=\"color:white;background-color:#3cb371\"> Online Retail Customer Segmentation</h2>"
      ]
    },
    {
      "cell_type": "markdown",
      "id": "2127b72a",
      "metadata": {
        "id": "2127b72a"
      },
      "source": [
        "This is a transnational data set which contains all the transactions occurring between 01/12/2010 and 09/12/2011 for a UK-based and registered non-store online retail.The company mainly sells unique all-occasion gifts. Many customers of the company are wholesalers."
      ]
    },
    {
      "cell_type": "markdown",
      "id": "3935cc05",
      "metadata": {
        "id": "3935cc05"
      },
      "source": [
        "<h4>Columns description</h4>\n",
        "\n",
        "<h6>InvoiceNo:</h6>A unique identifier for the invoice. An invoice number shared across rows means that those transactions were performed in a single invoice (multiple purchases).<br>\n",
        "<h6>StockCode: </h6>Identifier for items contained in an invoice.<br>\n",
        "<h6>Description:</h6> Textual description of each of the stock items.<br>\n",
        "<h6>Quantity:</h6> The quantity of the item purchased.<br>\n",
        "<h6>InvoiceDate:</h6> Date of purchase.<br>\n",
        "<h6>UnitPrice:</h6> Value of each item.<br>\n",
        "<h6>CustomerID: </h6>Identifier for customer making the purchase.<br>\n",
        "<h6>Country:</h6> Country of customer.<br>"
      ]
    },
    {
      "cell_type": "code",
      "execution_count": null,
      "id": "4fe375ba",
      "metadata": {
        "id": "4fe375ba"
      },
      "outputs": [],
      "source": [
        "#importing python module\n",
        "import numpy as np\n",
        "import pandas as pd\n",
        "import matplotlib.pyplot as plt\n",
        "%matplotlib inline\n",
        "import seaborn as sns"
      ]
    },
    {
      "cell_type": "code",
      "execution_count": null,
      "id": "cd474531",
      "metadata": {
        "id": "cd474531"
      },
      "outputs": [],
      "source": [
        "#loading the dataset\n",
        "df = pd.read_csv(\"Online Retail.csv\")"
      ]
    },
    {
      "cell_type": "code",
      "execution_count": null,
      "id": "eb4eaaa5",
      "metadata": {
        "id": "eb4eaaa5",
        "outputId": "31640662-463b-4c41-b5b2-7a9f6daed351"
      },
      "outputs": [
        {
          "data": {
            "text/html": [
              "<div>\n",
              "<style scoped>\n",
              "    .dataframe tbody tr th:only-of-type {\n",
              "        vertical-align: middle;\n",
              "    }\n",
              "\n",
              "    .dataframe tbody tr th {\n",
              "        vertical-align: top;\n",
              "    }\n",
              "\n",
              "    .dataframe thead th {\n",
              "        text-align: right;\n",
              "    }\n",
              "</style>\n",
              "<table border=\"1\" class=\"dataframe\">\n",
              "  <thead>\n",
              "    <tr style=\"text-align: right;\">\n",
              "      <th></th>\n",
              "      <th>InvoiceNo</th>\n",
              "      <th>StockCode</th>\n",
              "      <th>Description</th>\n",
              "      <th>Quantity</th>\n",
              "      <th>InvoiceDate</th>\n",
              "      <th>UnitPrice</th>\n",
              "      <th>CustomerID</th>\n",
              "      <th>Country</th>\n",
              "    </tr>\n",
              "  </thead>\n",
              "  <tbody>\n",
              "    <tr>\n",
              "      <th>0</th>\n",
              "      <td>536365</td>\n",
              "      <td>85123A</td>\n",
              "      <td>WHITE HANGING HEART T-LIGHT HOLDER</td>\n",
              "      <td>6</td>\n",
              "      <td>12/1/10 8:26</td>\n",
              "      <td>2.55</td>\n",
              "      <td>17850.0</td>\n",
              "      <td>United Kingdom</td>\n",
              "    </tr>\n",
              "    <tr>\n",
              "      <th>1</th>\n",
              "      <td>536365</td>\n",
              "      <td>71053</td>\n",
              "      <td>WHITE METAL LANTERN</td>\n",
              "      <td>6</td>\n",
              "      <td>12/1/10 8:26</td>\n",
              "      <td>3.39</td>\n",
              "      <td>17850.0</td>\n",
              "      <td>United Kingdom</td>\n",
              "    </tr>\n",
              "    <tr>\n",
              "      <th>2</th>\n",
              "      <td>536365</td>\n",
              "      <td>84406B</td>\n",
              "      <td>CREAM CUPID HEARTS COAT HANGER</td>\n",
              "      <td>8</td>\n",
              "      <td>12/1/10 8:26</td>\n",
              "      <td>2.75</td>\n",
              "      <td>17850.0</td>\n",
              "      <td>United Kingdom</td>\n",
              "    </tr>\n",
              "    <tr>\n",
              "      <th>3</th>\n",
              "      <td>536365</td>\n",
              "      <td>84029G</td>\n",
              "      <td>KNITTED UNION FLAG HOT WATER BOTTLE</td>\n",
              "      <td>6</td>\n",
              "      <td>12/1/10 8:26</td>\n",
              "      <td>3.39</td>\n",
              "      <td>17850.0</td>\n",
              "      <td>United Kingdom</td>\n",
              "    </tr>\n",
              "  </tbody>\n",
              "</table>\n",
              "</div>"
            ],
            "text/plain": [
              "  InvoiceNo StockCode                          Description  Quantity  \\\n",
              "0    536365    85123A   WHITE HANGING HEART T-LIGHT HOLDER         6   \n",
              "1    536365     71053                  WHITE METAL LANTERN         6   \n",
              "2    536365    84406B       CREAM CUPID HEARTS COAT HANGER         8   \n",
              "3    536365    84029G  KNITTED UNION FLAG HOT WATER BOTTLE         6   \n",
              "\n",
              "    InvoiceDate  UnitPrice  CustomerID         Country  \n",
              "0  12/1/10 8:26       2.55     17850.0  United Kingdom  \n",
              "1  12/1/10 8:26       3.39     17850.0  United Kingdom  \n",
              "2  12/1/10 8:26       2.75     17850.0  United Kingdom  \n",
              "3  12/1/10 8:26       3.39     17850.0  United Kingdom  "
            ]
          },
          "execution_count": 3,
          "metadata": {},
          "output_type": "execute_result"
        }
      ],
      "source": [
        "#to display the first four rows of the dataset\n",
        "df.head(4)"
      ]
    },
    {
      "cell_type": "code",
      "execution_count": null,
      "id": "d45454a2",
      "metadata": {
        "id": "d45454a2",
        "outputId": "551afbb6-ef84-4d65-e383-a0861510634b"
      },
      "outputs": [
        {
          "data": {
            "text/html": [
              "<div>\n",
              "<style scoped>\n",
              "    .dataframe tbody tr th:only-of-type {\n",
              "        vertical-align: middle;\n",
              "    }\n",
              "\n",
              "    .dataframe tbody tr th {\n",
              "        vertical-align: top;\n",
              "    }\n",
              "\n",
              "    .dataframe thead th {\n",
              "        text-align: right;\n",
              "    }\n",
              "</style>\n",
              "<table border=\"1\" class=\"dataframe\">\n",
              "  <thead>\n",
              "    <tr style=\"text-align: right;\">\n",
              "      <th></th>\n",
              "      <th>InvoiceNo</th>\n",
              "      <th>StockCode</th>\n",
              "      <th>Description</th>\n",
              "      <th>Quantity</th>\n",
              "      <th>InvoiceDate</th>\n",
              "      <th>UnitPrice</th>\n",
              "      <th>CustomerID</th>\n",
              "      <th>Country</th>\n",
              "    </tr>\n",
              "  </thead>\n",
              "  <tbody>\n",
              "    <tr>\n",
              "      <th>541905</th>\n",
              "      <td>581587</td>\n",
              "      <td>22899</td>\n",
              "      <td>CHILDREN'S APRON DOLLY GIRL</td>\n",
              "      <td>6</td>\n",
              "      <td>12/9/11 12:50</td>\n",
              "      <td>2.10</td>\n",
              "      <td>12680.0</td>\n",
              "      <td>France</td>\n",
              "    </tr>\n",
              "    <tr>\n",
              "      <th>541906</th>\n",
              "      <td>581587</td>\n",
              "      <td>23254</td>\n",
              "      <td>CHILDRENS CUTLERY DOLLY GIRL</td>\n",
              "      <td>4</td>\n",
              "      <td>12/9/11 12:50</td>\n",
              "      <td>4.15</td>\n",
              "      <td>12680.0</td>\n",
              "      <td>France</td>\n",
              "    </tr>\n",
              "    <tr>\n",
              "      <th>541907</th>\n",
              "      <td>581587</td>\n",
              "      <td>23255</td>\n",
              "      <td>CHILDRENS CUTLERY CIRCUS PARADE</td>\n",
              "      <td>4</td>\n",
              "      <td>12/9/11 12:50</td>\n",
              "      <td>4.15</td>\n",
              "      <td>12680.0</td>\n",
              "      <td>France</td>\n",
              "    </tr>\n",
              "    <tr>\n",
              "      <th>541908</th>\n",
              "      <td>581587</td>\n",
              "      <td>22138</td>\n",
              "      <td>BAKING SET 9 PIECE RETROSPOT</td>\n",
              "      <td>3</td>\n",
              "      <td>12/9/11 12:50</td>\n",
              "      <td>4.95</td>\n",
              "      <td>12680.0</td>\n",
              "      <td>France</td>\n",
              "    </tr>\n",
              "  </tbody>\n",
              "</table>\n",
              "</div>"
            ],
            "text/plain": [
              "       InvoiceNo StockCode                      Description  Quantity  \\\n",
              "541905    581587     22899      CHILDREN'S APRON DOLLY GIRL         6   \n",
              "541906    581587     23254     CHILDRENS CUTLERY DOLLY GIRL         4   \n",
              "541907    581587     23255  CHILDRENS CUTLERY CIRCUS PARADE         4   \n",
              "541908    581587     22138     BAKING SET 9 PIECE RETROSPOT         3   \n",
              "\n",
              "          InvoiceDate  UnitPrice  CustomerID Country  \n",
              "541905  12/9/11 12:50       2.10     12680.0  France  \n",
              "541906  12/9/11 12:50       4.15     12680.0  France  \n",
              "541907  12/9/11 12:50       4.15     12680.0  France  \n",
              "541908  12/9/11 12:50       4.95     12680.0  France  "
            ]
          },
          "execution_count": 4,
          "metadata": {},
          "output_type": "execute_result"
        }
      ],
      "source": [
        "#to display the last four rows of dataset\n",
        "df.tail(4)"
      ]
    },
    {
      "cell_type": "code",
      "execution_count": null,
      "id": "a127a339",
      "metadata": {
        "id": "a127a339",
        "outputId": "2a3f7631-c499-483f-97cc-9bd85968242b"
      },
      "outputs": [
        {
          "data": {
            "text/plain": [
              "(541909, 8)"
            ]
          },
          "execution_count": 5,
          "metadata": {},
          "output_type": "execute_result"
        }
      ],
      "source": [
        "#to display the number of rows and columns\n",
        "df.shape"
      ]
    },
    {
      "cell_type": "code",
      "execution_count": null,
      "id": "a7e2f10c",
      "metadata": {
        "id": "a7e2f10c",
        "outputId": "b9a98a4c-e24b-4f80-cfad-807bcbf823c7"
      },
      "outputs": [
        {
          "data": {
            "text/plain": [
              "Index(['InvoiceNo', 'StockCode', 'Description', 'Quantity', 'InvoiceDate',\n",
              "       'UnitPrice', 'CustomerID', 'Country'],\n",
              "      dtype='object')"
            ]
          },
          "execution_count": 6,
          "metadata": {},
          "output_type": "execute_result"
        }
      ],
      "source": [
        "#display all columns name\n",
        "df.columns"
      ]
    },
    {
      "cell_type": "code",
      "execution_count": null,
      "id": "ae7eb2b6",
      "metadata": {
        "id": "ae7eb2b6",
        "outputId": "0dc241c7-76c5-4a89-ec72-30a3ff9047cb"
      },
      "outputs": [
        {
          "name": "stdout",
          "output_type": "stream",
          "text": [
            "<class 'pandas.core.frame.DataFrame'>\n",
            "RangeIndex: 541909 entries, 0 to 541908\n",
            "Data columns (total 8 columns):\n",
            " #   Column       Non-Null Count   Dtype  \n",
            "---  ------       --------------   -----  \n",
            " 0   InvoiceNo    541909 non-null  object \n",
            " 1   StockCode    541909 non-null  object \n",
            " 2   Description  540455 non-null  object \n",
            " 3   Quantity     541909 non-null  int64  \n",
            " 4   InvoiceDate  541909 non-null  object \n",
            " 5   UnitPrice    541909 non-null  float64\n",
            " 6   CustomerID   406829 non-null  float64\n",
            " 7   Country      541909 non-null  object \n",
            "dtypes: float64(2), int64(1), object(5)\n",
            "memory usage: 33.1+ MB\n"
          ]
        }
      ],
      "source": [
        "#to display informaton about columns present \n",
        "df.info()"
      ]
    },
    {
      "cell_type": "code",
      "execution_count": null,
      "id": "99020d5c",
      "metadata": {
        "id": "99020d5c",
        "outputId": "24903c52-4c8b-4241-baa9-e719eb3544d3"
      },
      "outputs": [
        {
          "data": {
            "text/plain": [
              "InvoiceNo           0\n",
              "StockCode           0\n",
              "Description      1454\n",
              "Quantity            0\n",
              "InvoiceDate         0\n",
              "UnitPrice           0\n",
              "CustomerID     135080\n",
              "Country             0\n",
              "dtype: int64"
            ]
          },
          "execution_count": 8,
          "metadata": {},
          "output_type": "execute_result"
        }
      ],
      "source": [
        "#display the null values\n",
        "df.isnull().sum()"
      ]
    },
    {
      "cell_type": "markdown",
      "id": "d43a8c55",
      "metadata": {
        "id": "d43a8c55"
      },
      "source": [
        "There are missing value we will remove these missing values."
      ]
    },
    {
      "cell_type": "code",
      "execution_count": null,
      "id": "5e22bedc",
      "metadata": {
        "id": "5e22bedc"
      },
      "outputs": [],
      "source": [
        "#removing the missing vaues\n",
        "df.dropna(inplace=True)"
      ]
    },
    {
      "cell_type": "code",
      "execution_count": null,
      "id": "f955a3b1",
      "metadata": {
        "id": "f955a3b1",
        "outputId": "08f7f44c-957d-421c-cb42-1219f6b0bd21"
      },
      "outputs": [
        {
          "data": {
            "text/plain": [
              "InvoiceNo      0\n",
              "StockCode      0\n",
              "Description    0\n",
              "Quantity       0\n",
              "InvoiceDate    0\n",
              "UnitPrice      0\n",
              "CustomerID     0\n",
              "Country        0\n",
              "dtype: int64"
            ]
          },
          "execution_count": 10,
          "metadata": {},
          "output_type": "execute_result"
        }
      ],
      "source": [
        "#to check null vaues \n",
        "df.isnull().sum()"
      ]
    },
    {
      "cell_type": "code",
      "execution_count": null,
      "id": "2c87b244",
      "metadata": {
        "id": "2c87b244",
        "outputId": "8bcc755b-600c-433a-c7cb-dfadca4fbce8"
      },
      "outputs": [
        {
          "data": {
            "text/plain": [
              "(406829, 8)"
            ]
          },
          "execution_count": 11,
          "metadata": {},
          "output_type": "execute_result"
        }
      ],
      "source": [
        "#to check the number of rows and columns after removing the null values \n",
        "df.shape"
      ]
    },
    {
      "cell_type": "code",
      "execution_count": null,
      "id": "d71dabc3",
      "metadata": {
        "id": "d71dabc3",
        "outputId": "64696f91-ba27-4c47-82f0-58029f5e7c6a"
      },
      "outputs": [
        {
          "data": {
            "text/html": [
              "<div>\n",
              "<style scoped>\n",
              "    .dataframe tbody tr th:only-of-type {\n",
              "        vertical-align: middle;\n",
              "    }\n",
              "\n",
              "    .dataframe tbody tr th {\n",
              "        vertical-align: top;\n",
              "    }\n",
              "\n",
              "    .dataframe thead th {\n",
              "        text-align: right;\n",
              "    }\n",
              "</style>\n",
              "<table border=\"1\" class=\"dataframe\">\n",
              "  <thead>\n",
              "    <tr style=\"text-align: right;\">\n",
              "      <th></th>\n",
              "      <th>customers</th>\n",
              "      <th>products</th>\n",
              "      <th>transactions</th>\n",
              "    </tr>\n",
              "  </thead>\n",
              "  <tbody>\n",
              "    <tr>\n",
              "      <th>quantity</th>\n",
              "      <td>4372</td>\n",
              "      <td>3684</td>\n",
              "      <td>22190</td>\n",
              "    </tr>\n",
              "  </tbody>\n",
              "</table>\n",
              "</div>"
            ],
            "text/plain": [
              "          customers  products  transactions\n",
              "quantity       4372      3684         22190"
            ]
          },
          "execution_count": 12,
          "metadata": {},
          "output_type": "execute_result"
        }
      ],
      "source": [
        "pd.DataFrame([{'customers': len(df['CustomerID'].value_counts()),\n",
        "               'products': len(df['StockCode'].value_counts()),    \n",
        "               'transactions': len(df['InvoiceNo'].value_counts()),  \n",
        "              }], columns = ['customers', 'products', 'transactions'], index = ['quantity'])"
      ]
    },
    {
      "cell_type": "markdown",
      "id": "a3d8373e",
      "metadata": {
        "id": "a3d8373e"
      },
      "source": [
        "It can be seen that the dataset has 4372 unique customer records,3684 unique products. The total number of unique transactions present is 22,190."
      ]
    },
    {
      "cell_type": "code",
      "execution_count": null,
      "id": "17ef702f",
      "metadata": {
        "id": "17ef702f",
        "outputId": "ee1550a1-67b2-45cf-9d7b-136b6325370b"
      },
      "outputs": [
        {
          "data": {
            "text/plain": [
              "United Kingdom          361878\n",
              "Germany                   9495\n",
              "France                    8491\n",
              "EIRE                      7485\n",
              "Spain                     2533\n",
              "Netherlands               2371\n",
              "Belgium                   2069\n",
              "Switzerland               1877\n",
              "Portugal                  1480\n",
              "Australia                 1259\n",
              "Norway                    1086\n",
              "Italy                      803\n",
              "Channel Islands            758\n",
              "Finland                    695\n",
              "Cyprus                     622\n",
              "Sweden                     462\n",
              "Austria                    401\n",
              "Denmark                    389\n",
              "Japan                      358\n",
              "Poland                     341\n",
              "USA                        291\n",
              "Israel                     250\n",
              "Unspecified                244\n",
              "Singapore                  229\n",
              "Iceland                    182\n",
              "Canada                     151\n",
              "Greece                     146\n",
              "Malta                      127\n",
              "United Arab Emirates        68\n",
              "European Community          61\n",
              "RSA                         58\n",
              "Lebanon                     45\n",
              "Lithuania                   35\n",
              "Brazil                      32\n",
              "Czech Republic              30\n",
              "Bahrain                     17\n",
              "Saudi Arabia                10\n",
              "Name: Country, dtype: int64"
            ]
          },
          "execution_count": 13,
          "metadata": {},
          "output_type": "execute_result"
        }
      ],
      "source": [
        "#to check the number of purchase recoreds from different countries\n",
        "df.Country.value_counts()             "
      ]
    },
    {
      "cell_type": "markdown",
      "id": "e16ae435",
      "metadata": {
        "id": "e16ae435"
      },
      "source": [
        "Most of the customers in the data are from the United Kingdom. Customer clusters vary by geography, so here we’ll restrict the data to the United Kingdom only."
      ]
    },
    {
      "cell_type": "code",
      "execution_count": null,
      "id": "bb91cd76",
      "metadata": {
        "id": "bb91cd76",
        "outputId": "40240cd8-526c-4012-cdf0-37191be7f517"
      },
      "outputs": [
        {
          "data": {
            "text/plain": [
              "(361878, 8)"
            ]
          },
          "execution_count": 14,
          "metadata": {},
          "output_type": "execute_result"
        }
      ],
      "source": [
        "#for segmentation we will consider only those customers who are from United Kingdom\n",
        "df_uk = df[df['Country']=='United Kingdom']\n",
        "#check the shape of new dataset\n",
        "df_uk.shape"
      ]
    },
    {
      "cell_type": "code",
      "execution_count": null,
      "id": "196cede6",
      "metadata": {
        "id": "196cede6",
        "outputId": "6261b63f-24d9-4ae1-e2a1-23abcdbafa25"
      },
      "outputs": [
        {
          "data": {
            "text/html": [
              "<div>\n",
              "<style scoped>\n",
              "    .dataframe tbody tr th:only-of-type {\n",
              "        vertical-align: middle;\n",
              "    }\n",
              "\n",
              "    .dataframe tbody tr th {\n",
              "        vertical-align: top;\n",
              "    }\n",
              "\n",
              "    .dataframe thead th {\n",
              "        text-align: right;\n",
              "    }\n",
              "</style>\n",
              "<table border=\"1\" class=\"dataframe\">\n",
              "  <thead>\n",
              "    <tr style=\"text-align: right;\">\n",
              "      <th></th>\n",
              "      <th>Quantity</th>\n",
              "      <th>UnitPrice</th>\n",
              "      <th>CustomerID</th>\n",
              "    </tr>\n",
              "  </thead>\n",
              "  <tbody>\n",
              "    <tr>\n",
              "      <th>count</th>\n",
              "      <td>361878.000000</td>\n",
              "      <td>361878.000000</td>\n",
              "      <td>361878.000000</td>\n",
              "    </tr>\n",
              "    <tr>\n",
              "      <th>mean</th>\n",
              "      <td>11.077029</td>\n",
              "      <td>3.256007</td>\n",
              "      <td>15547.871368</td>\n",
              "    </tr>\n",
              "    <tr>\n",
              "      <th>std</th>\n",
              "      <td>263.129266</td>\n",
              "      <td>70.654731</td>\n",
              "      <td>1594.402590</td>\n",
              "    </tr>\n",
              "    <tr>\n",
              "      <th>min</th>\n",
              "      <td>-80995.000000</td>\n",
              "      <td>0.000000</td>\n",
              "      <td>12346.000000</td>\n",
              "    </tr>\n",
              "    <tr>\n",
              "      <th>25%</th>\n",
              "      <td>2.000000</td>\n",
              "      <td>1.250000</td>\n",
              "      <td>14194.000000</td>\n",
              "    </tr>\n",
              "    <tr>\n",
              "      <th>50%</th>\n",
              "      <td>4.000000</td>\n",
              "      <td>1.950000</td>\n",
              "      <td>15514.000000</td>\n",
              "    </tr>\n",
              "    <tr>\n",
              "      <th>75%</th>\n",
              "      <td>12.000000</td>\n",
              "      <td>3.750000</td>\n",
              "      <td>16931.000000</td>\n",
              "    </tr>\n",
              "    <tr>\n",
              "      <th>max</th>\n",
              "      <td>80995.000000</td>\n",
              "      <td>38970.000000</td>\n",
              "      <td>18287.000000</td>\n",
              "    </tr>\n",
              "  </tbody>\n",
              "</table>\n",
              "</div>"
            ],
            "text/plain": [
              "            Quantity      UnitPrice     CustomerID\n",
              "count  361878.000000  361878.000000  361878.000000\n",
              "mean       11.077029       3.256007   15547.871368\n",
              "std       263.129266      70.654731    1594.402590\n",
              "min    -80995.000000       0.000000   12346.000000\n",
              "25%         2.000000       1.250000   14194.000000\n",
              "50%         4.000000       1.950000   15514.000000\n",
              "75%        12.000000       3.750000   16931.000000\n",
              "max     80995.000000   38970.000000   18287.000000"
            ]
          },
          "execution_count": 15,
          "metadata": {},
          "output_type": "execute_result"
        }
      ],
      "source": [
        "# to compute and display summary statistics \n",
        "df_uk.describe()"
      ]
    },
    {
      "cell_type": "markdown",
      "id": "422a17ea",
      "metadata": {
        "id": "422a17ea"
      },
      "source": [
        "we can observe from table above there are -ve values in Quantity. Because quantity cannot be -ve \n",
        "for purchase done by customers we will delete all the rows that contains negative values."
      ]
    },
    {
      "cell_type": "code",
      "execution_count": null,
      "id": "5a39c39f",
      "metadata": {
        "id": "5a39c39f",
        "outputId": "18bd5583-5a0b-47f5-aac8-8b1729ba7240"
      },
      "outputs": [
        {
          "data": {
            "text/plain": [
              "(354345, 8)"
            ]
          },
          "execution_count": 16,
          "metadata": {},
          "output_type": "execute_result"
        }
      ],
      "source": [
        "#removing all rows that contains -ve quantity\n",
        "df_uk = df_uk[df_uk['Quantity']>0]\n",
        "df_uk.shape"
      ]
    },
    {
      "cell_type": "code",
      "execution_count": null,
      "id": "e5949533",
      "metadata": {
        "id": "e5949533",
        "outputId": "6c591901-f940-403f-b0b4-807233db3b29"
      },
      "outputs": [
        {
          "data": {
            "text/plain": [
              "(176137, 8)"
            ]
          },
          "execution_count": 17,
          "metadata": {},
          "output_type": "execute_result"
        }
      ],
      "source": [
        "#restricting the data to one full year because it's better to use a metric per Months or Years in RFM\n",
        "df_uk = df_uk[df_uk['InvoiceDate']>= \"2010-12-09\"]\n",
        "df_uk.shape"
      ]
    },
    {
      "cell_type": "code",
      "execution_count": null,
      "id": "b5a4f552",
      "metadata": {
        "id": "b5a4f552",
        "outputId": "f9355f0a-018a-469a-a2fb-bb5ecd7bd260"
      },
      "outputs": [
        {
          "name": "stdout",
          "output_type": "stream",
          "text": [
            "Unique number of customer ID present in data- 2864\n",
            "Unique number of Quantity present in data- 235\n",
            "Unique number of StockCode present in data- 3294\n",
            "Unique number of Description present in data- 3403\n",
            "Unique number of InvoiceNo present in data- 8789\n",
            "Unique number of InvoiceDate present in data- 8285\n",
            "Unique number of Country present in data- 1\n",
            "Unique number of UnitPrice present in data- 301\n"
          ]
        }
      ],
      "source": [
        "#to print the number of unique values in coumns \n",
        "print('Unique number of customer ID present in data-',df_uk.CustomerID.nunique())\n",
        "print('Unique number of Quantity present in data-',df_uk.Quantity.nunique())\n",
        "print('Unique number of StockCode present in data-',df_uk.StockCode.nunique())\n",
        "print('Unique number of Description present in data-',df_uk.Description.nunique())\n",
        "print('Unique number of InvoiceNo present in data-',df_uk.InvoiceNo.nunique()) \n",
        "print('Unique number of InvoiceDate present in data-',df_uk.InvoiceDate.nunique())\n",
        "print('Unique number of Country present in data-',df_uk.Country.nunique())\n",
        "print('Unique number of UnitPrice present in data-',df_uk.UnitPrice.nunique())"
      ]
    },
    {
      "cell_type": "code",
      "execution_count": null,
      "id": "c2a583ce",
      "metadata": {
        "id": "c2a583ce"
      },
      "outputs": [],
      "source": [
        "#creating a new coumn date which contains the dates of transaction officially recorded.\n",
        "df_uk['date'] = pd.DatetimeIndex(df_uk['InvoiceDate']).date"
      ]
    },
    {
      "cell_type": "code",
      "execution_count": null,
      "id": "38cc0934",
      "metadata": {
        "id": "38cc0934",
        "outputId": "8eb74e7b-e75a-4b93-e8ec-0ab777743ed9"
      },
      "outputs": [
        {
          "data": {
            "text/html": [
              "<div>\n",
              "<style scoped>\n",
              "    .dataframe tbody tr th:only-of-type {\n",
              "        vertical-align: middle;\n",
              "    }\n",
              "\n",
              "    .dataframe tbody tr th {\n",
              "        vertical-align: top;\n",
              "    }\n",
              "\n",
              "    .dataframe thead th {\n",
              "        text-align: right;\n",
              "    }\n",
              "</style>\n",
              "<table border=\"1\" class=\"dataframe\">\n",
              "  <thead>\n",
              "    <tr style=\"text-align: right;\">\n",
              "      <th></th>\n",
              "      <th>InvoiceNo</th>\n",
              "      <th>StockCode</th>\n",
              "      <th>Description</th>\n",
              "      <th>Quantity</th>\n",
              "      <th>InvoiceDate</th>\n",
              "      <th>UnitPrice</th>\n",
              "      <th>CustomerID</th>\n",
              "      <th>Country</th>\n",
              "      <th>date</th>\n",
              "    </tr>\n",
              "  </thead>\n",
              "  <tbody>\n",
              "    <tr>\n",
              "      <th>105335</th>\n",
              "      <td>545220</td>\n",
              "      <td>21955</td>\n",
              "      <td>DOORMAT UNION JACK GUNS AND ROSES</td>\n",
              "      <td>2</td>\n",
              "      <td>3/1/11 8:30</td>\n",
              "      <td>7.95</td>\n",
              "      <td>14620.0</td>\n",
              "      <td>United Kingdom</td>\n",
              "      <td>2011-03-01</td>\n",
              "    </tr>\n",
              "    <tr>\n",
              "      <th>105336</th>\n",
              "      <td>545220</td>\n",
              "      <td>48194</td>\n",
              "      <td>DOORMAT HEARTS</td>\n",
              "      <td>2</td>\n",
              "      <td>3/1/11 8:30</td>\n",
              "      <td>7.95</td>\n",
              "      <td>14620.0</td>\n",
              "      <td>United Kingdom</td>\n",
              "      <td>2011-03-01</td>\n",
              "    </tr>\n",
              "    <tr>\n",
              "      <th>105337</th>\n",
              "      <td>545220</td>\n",
              "      <td>22556</td>\n",
              "      <td>PLASTERS IN TIN CIRCUS PARADE</td>\n",
              "      <td>12</td>\n",
              "      <td>3/1/11 8:30</td>\n",
              "      <td>1.65</td>\n",
              "      <td>14620.0</td>\n",
              "      <td>United Kingdom</td>\n",
              "      <td>2011-03-01</td>\n",
              "    </tr>\n",
              "    <tr>\n",
              "      <th>105338</th>\n",
              "      <td>545220</td>\n",
              "      <td>22139</td>\n",
              "      <td>RETROSPOT TEA SET CERAMIC 11 PC</td>\n",
              "      <td>3</td>\n",
              "      <td>3/1/11 8:30</td>\n",
              "      <td>4.95</td>\n",
              "      <td>14620.0</td>\n",
              "      <td>United Kingdom</td>\n",
              "      <td>2011-03-01</td>\n",
              "    </tr>\n",
              "    <tr>\n",
              "      <th>105339</th>\n",
              "      <td>545220</td>\n",
              "      <td>84029G</td>\n",
              "      <td>KNITTED UNION FLAG HOT WATER BOTTLE</td>\n",
              "      <td>4</td>\n",
              "      <td>3/1/11 8:30</td>\n",
              "      <td>3.75</td>\n",
              "      <td>14620.0</td>\n",
              "      <td>United Kingdom</td>\n",
              "      <td>2011-03-01</td>\n",
              "    </tr>\n",
              "    <tr>\n",
              "      <th>...</th>\n",
              "      <td>...</td>\n",
              "      <td>...</td>\n",
              "      <td>...</td>\n",
              "      <td>...</td>\n",
              "      <td>...</td>\n",
              "      <td>...</td>\n",
              "      <td>...</td>\n",
              "      <td>...</td>\n",
              "      <td>...</td>\n",
              "    </tr>\n",
              "    <tr>\n",
              "      <th>370675</th>\n",
              "      <td>569148</td>\n",
              "      <td>22113</td>\n",
              "      <td>GREY HEART HOT WATER BOTTLE</td>\n",
              "      <td>4</td>\n",
              "      <td>9/30/11 15:52</td>\n",
              "      <td>4.25</td>\n",
              "      <td>16613.0</td>\n",
              "      <td>United Kingdom</td>\n",
              "      <td>2011-09-30</td>\n",
              "    </tr>\n",
              "    <tr>\n",
              "      <th>370676</th>\n",
              "      <td>569148</td>\n",
              "      <td>84030E</td>\n",
              "      <td>ENGLISH ROSE HOT WATER BOTTLE</td>\n",
              "      <td>4</td>\n",
              "      <td>9/30/11 15:52</td>\n",
              "      <td>4.25</td>\n",
              "      <td>16613.0</td>\n",
              "      <td>United Kingdom</td>\n",
              "      <td>2011-09-30</td>\n",
              "    </tr>\n",
              "    <tr>\n",
              "      <th>370677</th>\n",
              "      <td>569148</td>\n",
              "      <td>22867</td>\n",
              "      <td>HAND WARMER BIRD DESIGN</td>\n",
              "      <td>12</td>\n",
              "      <td>9/30/11 15:52</td>\n",
              "      <td>2.10</td>\n",
              "      <td>16613.0</td>\n",
              "      <td>United Kingdom</td>\n",
              "      <td>2011-09-30</td>\n",
              "    </tr>\n",
              "    <tr>\n",
              "      <th>370678</th>\n",
              "      <td>569148</td>\n",
              "      <td>23439</td>\n",
              "      <td>HAND WARMER RED LOVE HEART</td>\n",
              "      <td>12</td>\n",
              "      <td>9/30/11 15:52</td>\n",
              "      <td>2.10</td>\n",
              "      <td>16613.0</td>\n",
              "      <td>United Kingdom</td>\n",
              "      <td>2011-09-30</td>\n",
              "    </tr>\n",
              "    <tr>\n",
              "      <th>370679</th>\n",
              "      <td>569148</td>\n",
              "      <td>84945</td>\n",
              "      <td>MULTI COLOUR SILVER T-LIGHT HOLDER</td>\n",
              "      <td>12</td>\n",
              "      <td>9/30/11 15:52</td>\n",
              "      <td>0.85</td>\n",
              "      <td>16613.0</td>\n",
              "      <td>United Kingdom</td>\n",
              "      <td>2011-09-30</td>\n",
              "    </tr>\n",
              "  </tbody>\n",
              "</table>\n",
              "<p>176137 rows × 9 columns</p>\n",
              "</div>"
            ],
            "text/plain": [
              "       InvoiceNo StockCode                          Description  Quantity  \\\n",
              "105335    545220     21955    DOORMAT UNION JACK GUNS AND ROSES         2   \n",
              "105336    545220     48194                       DOORMAT HEARTS         2   \n",
              "105337    545220     22556        PLASTERS IN TIN CIRCUS PARADE        12   \n",
              "105338    545220     22139      RETROSPOT TEA SET CERAMIC 11 PC         3   \n",
              "105339    545220    84029G  KNITTED UNION FLAG HOT WATER BOTTLE         4   \n",
              "...          ...       ...                                  ...       ...   \n",
              "370675    569148     22113          GREY HEART HOT WATER BOTTLE         4   \n",
              "370676    569148    84030E        ENGLISH ROSE HOT WATER BOTTLE         4   \n",
              "370677    569148     22867              HAND WARMER BIRD DESIGN        12   \n",
              "370678    569148     23439           HAND WARMER RED LOVE HEART        12   \n",
              "370679    569148     84945   MULTI COLOUR SILVER T-LIGHT HOLDER        12   \n",
              "\n",
              "          InvoiceDate  UnitPrice  CustomerID         Country        date  \n",
              "105335    3/1/11 8:30       7.95     14620.0  United Kingdom  2011-03-01  \n",
              "105336    3/1/11 8:30       7.95     14620.0  United Kingdom  2011-03-01  \n",
              "105337    3/1/11 8:30       1.65     14620.0  United Kingdom  2011-03-01  \n",
              "105338    3/1/11 8:30       4.95     14620.0  United Kingdom  2011-03-01  \n",
              "105339    3/1/11 8:30       3.75     14620.0  United Kingdom  2011-03-01  \n",
              "...               ...        ...         ...             ...         ...  \n",
              "370675  9/30/11 15:52       4.25     16613.0  United Kingdom  2011-09-30  \n",
              "370676  9/30/11 15:52       4.25     16613.0  United Kingdom  2011-09-30  \n",
              "370677  9/30/11 15:52       2.10     16613.0  United Kingdom  2011-09-30  \n",
              "370678  9/30/11 15:52       2.10     16613.0  United Kingdom  2011-09-30  \n",
              "370679  9/30/11 15:52       0.85     16613.0  United Kingdom  2011-09-30  \n",
              "\n",
              "[176137 rows x 9 columns]"
            ]
          },
          "execution_count": 20,
          "metadata": {},
          "output_type": "execute_result"
        }
      ],
      "source": [
        "#displaying our dataset\n",
        "df_uk"
      ]
    },
    {
      "cell_type": "markdown",
      "id": "f9aa2004",
      "metadata": {
        "id": "f9aa2004"
      },
      "source": [
        "<h3>RFM</h3>\n",
        "Recency, frequency, monetary value is a marketing analysis tool used to classify a company’s or an organization’s best customers by measuring and analyzing spending habits. Here we will be using RFM technique to do the customer segmentation"
      ]
    },
    {
      "cell_type": "markdown",
      "id": "32512617",
      "metadata": {
        "id": "32512617"
      },
      "source": [
        "<h5>Recency:</h5> How recently a customer has made a purchase<br>\n",
        "<h5>Frequency:</h5> How often a customer makes a purchase<br>\n",
        "<h5>Monetary Value:</h5> How much money a customer spends on purchases\n"
      ]
    },
    {
      "cell_type": "markdown",
      "id": "00cd705c",
      "metadata": {
        "id": "00cd705c"
      },
      "source": [
        "<h3>recency</h3>"
      ]
    },
    {
      "cell_type": "code",
      "execution_count": null,
      "id": "2e5af1fe",
      "metadata": {
        "id": "2e5af1fe",
        "outputId": "6c597443-46cd-41e2-a6b1-3ca65fd73e2e"
      },
      "outputs": [
        {
          "data": {
            "text/plain": [
              "datetime.date(2011, 9, 30)"
            ]
          },
          "execution_count": 21,
          "metadata": {},
          "output_type": "execute_result"
        }
      ],
      "source": [
        "#to get the last date of transaction available in data \n",
        "df_uk['date'].max()"
      ]
    },
    {
      "cell_type": "code",
      "execution_count": null,
      "id": "80cfd26d",
      "metadata": {
        "id": "80cfd26d",
        "outputId": "32f58e13-c590-4028-fa15-87cfafb492bc"
      },
      "outputs": [
        {
          "data": {
            "text/plain": [
              "datetime.date(2011, 3, 1)"
            ]
          },
          "execution_count": 22,
          "metadata": {},
          "output_type": "execute_result"
        }
      ],
      "source": [
        "#to get the oldest date of transaction available in data\n",
        "df_uk['date'].min()"
      ]
    },
    {
      "cell_type": "code",
      "execution_count": null,
      "id": "f814298d",
      "metadata": {
        "id": "f814298d",
        "outputId": "3e74c21b-e0aa-4ca1-9b1e-83488a8ee8a3"
      },
      "outputs": [
        {
          "data": {
            "text/html": [
              "<div>\n",
              "<style scoped>\n",
              "    .dataframe tbody tr th:only-of-type {\n",
              "        vertical-align: middle;\n",
              "    }\n",
              "\n",
              "    .dataframe tbody tr th {\n",
              "        vertical-align: top;\n",
              "    }\n",
              "\n",
              "    .dataframe thead th {\n",
              "        text-align: right;\n",
              "    }\n",
              "</style>\n",
              "<table border=\"1\" class=\"dataframe\">\n",
              "  <thead>\n",
              "    <tr style=\"text-align: right;\">\n",
              "      <th></th>\n",
              "      <th>CustomerID</th>\n",
              "      <th>LastPurshaceDate</th>\n",
              "    </tr>\n",
              "  </thead>\n",
              "  <tbody>\n",
              "    <tr>\n",
              "      <th>0</th>\n",
              "      <td>12747.0</td>\n",
              "      <td>2011-08-22</td>\n",
              "    </tr>\n",
              "    <tr>\n",
              "      <th>1</th>\n",
              "      <td>12748.0</td>\n",
              "      <td>2011-09-30</td>\n",
              "    </tr>\n",
              "    <tr>\n",
              "      <th>2</th>\n",
              "      <td>12749.0</td>\n",
              "      <td>2011-08-01</td>\n",
              "    </tr>\n",
              "    <tr>\n",
              "      <th>3</th>\n",
              "      <td>12820.0</td>\n",
              "      <td>2011-09-26</td>\n",
              "    </tr>\n",
              "    <tr>\n",
              "      <th>4</th>\n",
              "      <td>12821.0</td>\n",
              "      <td>2011-05-09</td>\n",
              "    </tr>\n",
              "  </tbody>\n",
              "</table>\n",
              "</div>"
            ],
            "text/plain": [
              "   CustomerID LastPurshaceDate\n",
              "0     12747.0       2011-08-22\n",
              "1     12748.0       2011-09-30\n",
              "2     12749.0       2011-08-01\n",
              "3     12820.0       2011-09-26\n",
              "4     12821.0       2011-05-09"
            ]
          },
          "execution_count": 23,
          "metadata": {},
          "output_type": "execute_result"
        }
      ],
      "source": [
        "#display the columns customer id and their last purchase date\n",
        "df_recency = df_uk.groupby(by='CustomerID', as_index=False)['date'].max()\n",
        "df_recency.columns = ['CustomerID','LastPurshaceDate']\n",
        "df_recency.head()"
      ]
    },
    {
      "cell_type": "code",
      "execution_count": null,
      "id": "27bf94de",
      "metadata": {
        "id": "27bf94de"
      },
      "outputs": [],
      "source": [
        "#Importing the datetime module\n",
        "import datetime as dt"
      ]
    },
    {
      "cell_type": "code",
      "execution_count": null,
      "id": "66a73e1c",
      "metadata": {
        "id": "66a73e1c",
        "outputId": "2009b944-a22c-406a-cba3-71e6eb628c43"
      },
      "outputs": [
        {
          "name": "stdout",
          "output_type": "stream",
          "text": [
            "2011-12-09\n"
          ]
        }
      ],
      "source": [
        "#assigning today as the latest date of transaction\n",
        "today = dt.date(2011,12,9)\n",
        "print(today)"
      ]
    },
    {
      "cell_type": "code",
      "execution_count": null,
      "id": "76184c91",
      "metadata": {
        "id": "76184c91",
        "outputId": "1f4594ae-8a99-4e75-8af9-3d59e6a5ae31"
      },
      "outputs": [
        {
          "data": {
            "text/html": [
              "<div>\n",
              "<style scoped>\n",
              "    .dataframe tbody tr th:only-of-type {\n",
              "        vertical-align: middle;\n",
              "    }\n",
              "\n",
              "    .dataframe tbody tr th {\n",
              "        vertical-align: top;\n",
              "    }\n",
              "\n",
              "    .dataframe thead th {\n",
              "        text-align: right;\n",
              "    }\n",
              "</style>\n",
              "<table border=\"1\" class=\"dataframe\">\n",
              "  <thead>\n",
              "    <tr style=\"text-align: right;\">\n",
              "      <th></th>\n",
              "      <th>CustomerID</th>\n",
              "      <th>LastPurshaceDate</th>\n",
              "      <th>Recency</th>\n",
              "    </tr>\n",
              "  </thead>\n",
              "  <tbody>\n",
              "    <tr>\n",
              "      <th>0</th>\n",
              "      <td>12747.0</td>\n",
              "      <td>2011-08-22</td>\n",
              "      <td>109</td>\n",
              "    </tr>\n",
              "    <tr>\n",
              "      <th>1</th>\n",
              "      <td>12748.0</td>\n",
              "      <td>2011-09-30</td>\n",
              "      <td>70</td>\n",
              "    </tr>\n",
              "    <tr>\n",
              "      <th>2</th>\n",
              "      <td>12749.0</td>\n",
              "      <td>2011-08-01</td>\n",
              "      <td>130</td>\n",
              "    </tr>\n",
              "    <tr>\n",
              "      <th>3</th>\n",
              "      <td>12820.0</td>\n",
              "      <td>2011-09-26</td>\n",
              "      <td>74</td>\n",
              "    </tr>\n",
              "    <tr>\n",
              "      <th>4</th>\n",
              "      <td>12821.0</td>\n",
              "      <td>2011-05-09</td>\n",
              "      <td>214</td>\n",
              "    </tr>\n",
              "  </tbody>\n",
              "</table>\n",
              "</div>"
            ],
            "text/plain": [
              "   CustomerID LastPurshaceDate  Recency\n",
              "0     12747.0       2011-08-22      109\n",
              "1     12748.0       2011-09-30       70\n",
              "2     12749.0       2011-08-01      130\n",
              "3     12820.0       2011-09-26       74\n",
              "4     12821.0       2011-05-09      214"
            ]
          },
          "execution_count": 26,
          "metadata": {},
          "output_type": "execute_result"
        }
      ],
      "source": [
        "#to calculate how recently a customer purchased \n",
        "df_recency['Recency'] = df_recency['LastPurshaceDate'].apply(lambda x: (today - x).days)\n",
        "df_recency.head()"
      ]
    },
    {
      "cell_type": "code",
      "execution_count": null,
      "id": "7fa3c432",
      "metadata": {
        "id": "7fa3c432"
      },
      "outputs": [],
      "source": [
        "#deleting the last purchase date  columnn\n",
        "df_recency.drop('LastPurshaceDate',axis=1,inplace=True)"
      ]
    },
    {
      "cell_type": "code",
      "execution_count": null,
      "id": "6227456e",
      "metadata": {
        "id": "6227456e",
        "outputId": "e703727d-4495-496e-91d8-7551b1f99b63"
      },
      "outputs": [
        {
          "data": {
            "text/html": [
              "<div>\n",
              "<style scoped>\n",
              "    .dataframe tbody tr th:only-of-type {\n",
              "        vertical-align: middle;\n",
              "    }\n",
              "\n",
              "    .dataframe tbody tr th {\n",
              "        vertical-align: top;\n",
              "    }\n",
              "\n",
              "    .dataframe thead th {\n",
              "        text-align: right;\n",
              "    }\n",
              "</style>\n",
              "<table border=\"1\" class=\"dataframe\">\n",
              "  <thead>\n",
              "    <tr style=\"text-align: right;\">\n",
              "      <th></th>\n",
              "      <th>CustomerID</th>\n",
              "      <th>Recency</th>\n",
              "    </tr>\n",
              "  </thead>\n",
              "  <tbody>\n",
              "    <tr>\n",
              "      <th>0</th>\n",
              "      <td>12747.0</td>\n",
              "      <td>109</td>\n",
              "    </tr>\n",
              "    <tr>\n",
              "      <th>1</th>\n",
              "      <td>12748.0</td>\n",
              "      <td>70</td>\n",
              "    </tr>\n",
              "    <tr>\n",
              "      <th>2</th>\n",
              "      <td>12749.0</td>\n",
              "      <td>130</td>\n",
              "    </tr>\n",
              "    <tr>\n",
              "      <th>3</th>\n",
              "      <td>12820.0</td>\n",
              "      <td>74</td>\n",
              "    </tr>\n",
              "    <tr>\n",
              "      <th>4</th>\n",
              "      <td>12821.0</td>\n",
              "      <td>214</td>\n",
              "    </tr>\n",
              "  </tbody>\n",
              "</table>\n",
              "</div>"
            ],
            "text/plain": [
              "   CustomerID  Recency\n",
              "0     12747.0      109\n",
              "1     12748.0       70\n",
              "2     12749.0      130\n",
              "3     12820.0       74\n",
              "4     12821.0      214"
            ]
          },
          "execution_count": 28,
          "metadata": {},
          "output_type": "execute_result"
        }
      ],
      "source": [
        "#recency of each customer id last purchase\n",
        "df_recency.head()"
      ]
    },
    {
      "cell_type": "markdown",
      "id": "34a1f919",
      "metadata": {
        "id": "34a1f919"
      },
      "source": [
        "<h3>Frequency"
      ]
    },
    {
      "cell_type": "code",
      "execution_count": null,
      "id": "696d3001",
      "metadata": {
        "id": "696d3001"
      },
      "outputs": [],
      "source": [
        "import warnings\n",
        "warnings.filterwarnings(\"ignore\")"
      ]
    },
    {
      "cell_type": "code",
      "execution_count": null,
      "id": "f5452d47",
      "metadata": {
        "id": "f5452d47",
        "outputId": "edbea99c-915c-46ea-9637-9f3ec142cd7b"
      },
      "outputs": [
        {
          "data": {
            "text/html": [
              "<div>\n",
              "<style scoped>\n",
              "    .dataframe tbody tr th:only-of-type {\n",
              "        vertical-align: middle;\n",
              "    }\n",
              "\n",
              "    .dataframe tbody tr th {\n",
              "        vertical-align: top;\n",
              "    }\n",
              "\n",
              "    .dataframe thead th {\n",
              "        text-align: right;\n",
              "    }\n",
              "</style>\n",
              "<table border=\"1\" class=\"dataframe\">\n",
              "  <thead>\n",
              "    <tr style=\"text-align: right;\">\n",
              "      <th></th>\n",
              "      <th>CustomerID</th>\n",
              "      <th>Frequency</th>\n",
              "    </tr>\n",
              "  </thead>\n",
              "  <tbody>\n",
              "    <tr>\n",
              "      <th>0</th>\n",
              "      <td>12747.0</td>\n",
              "      <td>5</td>\n",
              "    </tr>\n",
              "    <tr>\n",
              "      <th>1</th>\n",
              "      <td>12748.0</td>\n",
              "      <td>96</td>\n",
              "    </tr>\n",
              "    <tr>\n",
              "      <th>2</th>\n",
              "      <td>12749.0</td>\n",
              "      <td>3</td>\n",
              "    </tr>\n",
              "    <tr>\n",
              "      <th>3</th>\n",
              "      <td>12820.0</td>\n",
              "      <td>1</td>\n",
              "    </tr>\n",
              "    <tr>\n",
              "      <th>4</th>\n",
              "      <td>12821.0</td>\n",
              "      <td>1</td>\n",
              "    </tr>\n",
              "  </tbody>\n",
              "</table>\n",
              "</div>"
            ],
            "text/plain": [
              "   CustomerID  Frequency\n",
              "0     12747.0          5\n",
              "1     12748.0         96\n",
              "2     12749.0          3\n",
              "3     12820.0          1\n",
              "4     12821.0          1"
            ]
          },
          "execution_count": 30,
          "metadata": {},
          "output_type": "execute_result"
        }
      ],
      "source": [
        "# drop duplicates\n",
        "df_uk_copy = df_uk\n",
        "df_uk_copy.drop_duplicates(subset=['InvoiceNo', 'CustomerID'], keep=\"first\", inplace=True)\n",
        "# calculate frequency of purchases\n",
        "df_frequency = df_uk_copy.groupby(by=['CustomerID'], as_index=False)['InvoiceNo'].count()\n",
        "df_frequency.columns = ['CustomerID','Frequency']\n",
        "df_frequency.head()"
      ]
    },
    {
      "cell_type": "markdown",
      "id": "85c39a35",
      "metadata": {
        "id": "85c39a35"
      },
      "source": [
        "<h3>monetary"
      ]
    },
    {
      "cell_type": "code",
      "execution_count": null,
      "id": "a520f23c",
      "metadata": {
        "id": "a520f23c"
      },
      "outputs": [],
      "source": [
        "#create column total cost to calculate to total amount spend\n",
        "df_uk['TotalCost'] = df_uk['Quantity'] * df_uk['UnitPrice']"
      ]
    },
    {
      "cell_type": "code",
      "execution_count": null,
      "id": "863cacb9",
      "metadata": {
        "id": "863cacb9",
        "outputId": "256a8e41-27f7-4ebc-fd9e-5fc51a5a8688"
      },
      "outputs": [
        {
          "data": {
            "text/html": [
              "<div>\n",
              "<style scoped>\n",
              "    .dataframe tbody tr th:only-of-type {\n",
              "        vertical-align: middle;\n",
              "    }\n",
              "\n",
              "    .dataframe tbody tr th {\n",
              "        vertical-align: top;\n",
              "    }\n",
              "\n",
              "    .dataframe thead th {\n",
              "        text-align: right;\n",
              "    }\n",
              "</style>\n",
              "<table border=\"1\" class=\"dataframe\">\n",
              "  <thead>\n",
              "    <tr style=\"text-align: right;\">\n",
              "      <th></th>\n",
              "      <th>CustomerID</th>\n",
              "      <th>Monetary</th>\n",
              "    </tr>\n",
              "  </thead>\n",
              "  <tbody>\n",
              "    <tr>\n",
              "      <th>0</th>\n",
              "      <td>12747.0</td>\n",
              "      <td>191.85</td>\n",
              "    </tr>\n",
              "    <tr>\n",
              "      <th>1</th>\n",
              "      <td>12748.0</td>\n",
              "      <td>1054.43</td>\n",
              "    </tr>\n",
              "    <tr>\n",
              "      <th>2</th>\n",
              "      <td>12749.0</td>\n",
              "      <td>67.00</td>\n",
              "    </tr>\n",
              "    <tr>\n",
              "      <th>3</th>\n",
              "      <td>12820.0</td>\n",
              "      <td>15.00</td>\n",
              "    </tr>\n",
              "    <tr>\n",
              "      <th>4</th>\n",
              "      <td>12821.0</td>\n",
              "      <td>19.92</td>\n",
              "    </tr>\n",
              "  </tbody>\n",
              "</table>\n",
              "</div>"
            ],
            "text/plain": [
              "   CustomerID  Monetary\n",
              "0     12747.0    191.85\n",
              "1     12748.0   1054.43\n",
              "2     12749.0     67.00\n",
              "3     12820.0     15.00\n",
              "4     12821.0     19.92"
            ]
          },
          "execution_count": 32,
          "metadata": {},
          "output_type": "execute_result"
        }
      ],
      "source": [
        "#to calculate total amount of purchase done by a given customer id\n",
        "df_monetary = df_uk.groupby(by='CustomerID',as_index=False).agg({'TotalCost': 'sum'})\n",
        "#to create a dataframe with columns customer id and monetary \n",
        "df_monetary.columns = ['CustomerID','Monetary']\n",
        "#display total anoumt of purchase done by each id  \n",
        "df_monetary.head()"
      ]
    },
    {
      "cell_type": "markdown",
      "id": "a0cb6c92",
      "metadata": {
        "id": "a0cb6c92"
      },
      "source": [
        "<H3>RFM"
      ]
    },
    {
      "cell_type": "code",
      "execution_count": null,
      "id": "1f79a503",
      "metadata": {
        "id": "1f79a503",
        "outputId": "a979470d-9802-4e20-8d0a-13a3ca3abdd3"
      },
      "outputs": [
        {
          "data": {
            "text/html": [
              "<div>\n",
              "<style scoped>\n",
              "    .dataframe tbody tr th:only-of-type {\n",
              "        vertical-align: middle;\n",
              "    }\n",
              "\n",
              "    .dataframe tbody tr th {\n",
              "        vertical-align: top;\n",
              "    }\n",
              "\n",
              "    .dataframe thead th {\n",
              "        text-align: right;\n",
              "    }\n",
              "</style>\n",
              "<table border=\"1\" class=\"dataframe\">\n",
              "  <thead>\n",
              "    <tr style=\"text-align: right;\">\n",
              "      <th></th>\n",
              "      <th>Recency</th>\n",
              "      <th>Frequency</th>\n",
              "      <th>Monetary</th>\n",
              "    </tr>\n",
              "    <tr>\n",
              "      <th>CustomerID</th>\n",
              "      <th></th>\n",
              "      <th></th>\n",
              "      <th></th>\n",
              "    </tr>\n",
              "  </thead>\n",
              "  <tbody>\n",
              "    <tr>\n",
              "      <th>12747.0</th>\n",
              "      <td>109</td>\n",
              "      <td>5</td>\n",
              "      <td>191.85</td>\n",
              "    </tr>\n",
              "    <tr>\n",
              "      <th>12748.0</th>\n",
              "      <td>70</td>\n",
              "      <td>96</td>\n",
              "      <td>1054.43</td>\n",
              "    </tr>\n",
              "    <tr>\n",
              "      <th>12749.0</th>\n",
              "      <td>130</td>\n",
              "      <td>3</td>\n",
              "      <td>67.00</td>\n",
              "    </tr>\n",
              "    <tr>\n",
              "      <th>12820.0</th>\n",
              "      <td>74</td>\n",
              "      <td>1</td>\n",
              "      <td>15.00</td>\n",
              "    </tr>\n",
              "    <tr>\n",
              "      <th>12821.0</th>\n",
              "      <td>214</td>\n",
              "      <td>1</td>\n",
              "      <td>19.92</td>\n",
              "    </tr>\n",
              "  </tbody>\n",
              "</table>\n",
              "</div>"
            ],
            "text/plain": [
              "            Recency  Frequency  Monetary\n",
              "CustomerID                              \n",
              "12747.0         109          5    191.85\n",
              "12748.0          70         96   1054.43\n",
              "12749.0         130          3     67.00\n",
              "12820.0          74          1     15.00\n",
              "12821.0         214          1     19.92"
            ]
          },
          "execution_count": 33,
          "metadata": {},
          "output_type": "execute_result"
        }
      ],
      "source": [
        "#merging columns recency frequency and monetary into one dataframe \n",
        "df_sample = df_recency.merge(df_frequency,on='CustomerID')\n",
        "df_rfm = df_sample.merge(df_monetary,on='CustomerID')\n",
        "df_rfm.set_index('CustomerID',inplace=True)\n",
        "df_rfm.head()"
      ]
    },
    {
      "cell_type": "code",
      "execution_count": null,
      "id": "fc630e69",
      "metadata": {
        "id": "fc630e69",
        "outputId": "0d99a4ba-f054-492e-cd73-564281aa4300"
      },
      "outputs": [
        {
          "data": {
            "text/plain": [
              "(2864, 3)"
            ]
          },
          "execution_count": 34,
          "metadata": {},
          "output_type": "execute_result"
        }
      ],
      "source": [
        "#checking shape of above RFM data\n",
        "df_rfm.shape"
      ]
    },
    {
      "cell_type": "markdown",
      "id": "984200ab",
      "metadata": {
        "id": "984200ab"
      },
      "source": [
        "<h3>segmentation</h3\n"
      ]
    },
    {
      "cell_type": "code",
      "execution_count": null,
      "id": "f465733b",
      "metadata": {
        "id": "f465733b",
        "outputId": "3b90d775-ac3f-4b89-b1f6-8a4ab8ce82c1"
      },
      "outputs": [
        {
          "data": {
            "text/html": [
              "<div>\n",
              "<style scoped>\n",
              "    .dataframe tbody tr th:only-of-type {\n",
              "        vertical-align: middle;\n",
              "    }\n",
              "\n",
              "    .dataframe tbody tr th {\n",
              "        vertical-align: top;\n",
              "    }\n",
              "\n",
              "    .dataframe thead th {\n",
              "        text-align: right;\n",
              "    }\n",
              "</style>\n",
              "<table border=\"1\" class=\"dataframe\">\n",
              "  <thead>\n",
              "    <tr style=\"text-align: right;\">\n",
              "      <th></th>\n",
              "      <th>Recency</th>\n",
              "      <th>Frequency</th>\n",
              "      <th>Monetary</th>\n",
              "    </tr>\n",
              "  </thead>\n",
              "  <tbody>\n",
              "    <tr>\n",
              "      <th>count</th>\n",
              "      <td>2864.000000</td>\n",
              "      <td>2864.000000</td>\n",
              "      <td>2864.000000</td>\n",
              "    </tr>\n",
              "    <tr>\n",
              "      <th>mean</th>\n",
              "      <td>138.352304</td>\n",
              "      <td>3.068785</td>\n",
              "      <td>173.826851</td>\n",
              "    </tr>\n",
              "    <tr>\n",
              "      <th>std</th>\n",
              "      <td>61.908018</td>\n",
              "      <td>4.445087</td>\n",
              "      <td>1160.922425</td>\n",
              "    </tr>\n",
              "    <tr>\n",
              "      <th>min</th>\n",
              "      <td>70.000000</td>\n",
              "      <td>1.000000</td>\n",
              "      <td>0.210000</td>\n",
              "    </tr>\n",
              "    <tr>\n",
              "      <th>25%</th>\n",
              "      <td>85.000000</td>\n",
              "      <td>1.000000</td>\n",
              "      <td>16.350000</td>\n",
              "    </tr>\n",
              "    <tr>\n",
              "      <th>50%</th>\n",
              "      <td>119.000000</td>\n",
              "      <td>2.000000</td>\n",
              "      <td>35.400000</td>\n",
              "    </tr>\n",
              "    <tr>\n",
              "      <th>75%</th>\n",
              "      <td>183.000000</td>\n",
              "      <td>3.000000</td>\n",
              "      <td>92.420000</td>\n",
              "    </tr>\n",
              "    <tr>\n",
              "      <th>max</th>\n",
              "      <td>283.000000</td>\n",
              "      <td>96.000000</td>\n",
              "      <td>39916.500000</td>\n",
              "    </tr>\n",
              "  </tbody>\n",
              "</table>\n",
              "</div>"
            ],
            "text/plain": [
              "           Recency    Frequency      Monetary\n",
              "count  2864.000000  2864.000000   2864.000000\n",
              "mean    138.352304     3.068785    173.826851\n",
              "std      61.908018     4.445087   1160.922425\n",
              "min      70.000000     1.000000      0.210000\n",
              "25%      85.000000     1.000000     16.350000\n",
              "50%     119.000000     2.000000     35.400000\n",
              "75%     183.000000     3.000000     92.420000\n",
              "max     283.000000    96.000000  39916.500000"
            ]
          },
          "execution_count": 35,
          "metadata": {},
          "output_type": "execute_result"
        }
      ],
      "source": [
        "#to display summary statistics of RFM data\n",
        "df_rfm.describe()"
      ]
    },
    {
      "cell_type": "code",
      "execution_count": null,
      "id": "0b21f226",
      "metadata": {
        "id": "0b21f226",
        "outputId": "1cbe1925-248c-4ae7-8b2c-ce5f9db7c158"
      },
      "outputs": [
        {
          "data": {
            "text/html": [
              "<div>\n",
              "<style scoped>\n",
              "    .dataframe tbody tr th:only-of-type {\n",
              "        vertical-align: middle;\n",
              "    }\n",
              "\n",
              "    .dataframe tbody tr th {\n",
              "        vertical-align: top;\n",
              "    }\n",
              "\n",
              "    .dataframe thead th {\n",
              "        text-align: right;\n",
              "    }\n",
              "</style>\n",
              "<table border=\"1\" class=\"dataframe\">\n",
              "  <thead>\n",
              "    <tr style=\"text-align: right;\">\n",
              "      <th></th>\n",
              "      <th>Recency</th>\n",
              "      <th>Frequency</th>\n",
              "      <th>Monetary</th>\n",
              "    </tr>\n",
              "  </thead>\n",
              "  <tbody>\n",
              "    <tr>\n",
              "      <th>0.25</th>\n",
              "      <td>85.0</td>\n",
              "      <td>1.0</td>\n",
              "      <td>16.35</td>\n",
              "    </tr>\n",
              "    <tr>\n",
              "      <th>0.50</th>\n",
              "      <td>119.0</td>\n",
              "      <td>2.0</td>\n",
              "      <td>35.40</td>\n",
              "    </tr>\n",
              "    <tr>\n",
              "      <th>0.75</th>\n",
              "      <td>183.0</td>\n",
              "      <td>3.0</td>\n",
              "      <td>92.42</td>\n",
              "    </tr>\n",
              "  </tbody>\n",
              "</table>\n",
              "</div>"
            ],
            "text/plain": [
              "      Recency  Frequency  Monetary\n",
              "0.25     85.0        1.0     16.35\n",
              "0.50    119.0        2.0     35.40\n",
              "0.75    183.0        3.0     92.42"
            ]
          },
          "execution_count": 36,
          "metadata": {},
          "output_type": "execute_result"
        }
      ],
      "source": [
        "quantiles = df_rfm.quantile(q=[0.25,0.5,0.75])\n",
        "quantiles"
      ]
    },
    {
      "cell_type": "markdown",
      "id": "1691f6a9",
      "metadata": {
        "id": "1691f6a9"
      },
      "source": [
        "in above table we divided the columns recency frequency and monetary into four parts \n",
        "0-25%,25-50%,50-75%,75-100%"
      ]
    },
    {
      "cell_type": "code",
      "execution_count": null,
      "id": "c9ad3cd8",
      "metadata": {
        "id": "c9ad3cd8",
        "outputId": "3c3f1d86-a117-4c07-97e5-61920f1ed416"
      },
      "outputs": [
        {
          "data": {
            "text/plain": [
              "{'Recency': {0.25: 85.0, 0.5: 119.0, 0.75: 183.0},\n",
              " 'Frequency': {0.25: 1.0, 0.5: 2.0, 0.75: 3.0},\n",
              " 'Monetary': {0.25: 16.35, 0.5: 35.400000000000006, 0.75: 92.42}}"
            ]
          },
          "execution_count": 37,
          "metadata": {},
          "output_type": "execute_result"
        }
      ],
      "source": [
        "quantiles.to_dict()"
      ]
    },
    {
      "cell_type": "code",
      "execution_count": null,
      "id": "64970a1f",
      "metadata": {
        "id": "64970a1f"
      },
      "outputs": [],
      "source": [
        "# Arguments (x = value, p = recency, monetary_value, frequency, d = quartiles dict)\n",
        "def RScore(x,p,d):\n",
        "    if x <= d[p][0.25]:\n",
        "        return 4\n",
        "    elif x <= d[p][0.50]:\n",
        "        return 3\n",
        "    elif x <= d[p][0.75]: \n",
        "        return 2\n",
        "    else:\n",
        "        return 1\n",
        "# Arguments (x = value, p = recency, monetary_value, frequency, k = quartiles dict)\n",
        "def FMScore(x,p,d):\n",
        "    if x <= d[p][0.25]:\n",
        "        return 1\n",
        "    elif x <= d[p][0.50]:\n",
        "        return 2\n",
        "    elif x <= d[p][0.75]: \n",
        "        return 3\n",
        "    else:\n",
        "        return 4"
      ]
    },
    {
      "cell_type": "code",
      "execution_count": null,
      "id": "c6499838",
      "metadata": {
        "id": "c6499838"
      },
      "outputs": [],
      "source": [
        "rfm_segmentation = df_rfm\n",
        "#assigning values to recency frequency and monetary based on whether they lie between 0-25%,25-50% ,50-75%,75-100%\n",
        "rfm_segmentation['R_Quartile'] = rfm_segmentation['Recency'].apply(RScore, args=('Recency',quantiles,))\n",
        "rfm_segmentation['F_Quartile'] = rfm_segmentation['Frequency'].apply(FMScore, args=('Frequency',quantiles,))\n",
        "rfm_segmentation['M_Quartile'] = rfm_segmentation['Monetary'].apply(FMScore, args=('Monetary',quantiles,))"
      ]
    },
    {
      "cell_type": "code",
      "execution_count": null,
      "id": "562b3dc4",
      "metadata": {
        "id": "562b3dc4",
        "outputId": "12268eac-3c27-4a64-acad-6c06c07d32fc"
      },
      "outputs": [
        {
          "data": {
            "text/html": [
              "<div>\n",
              "<style scoped>\n",
              "    .dataframe tbody tr th:only-of-type {\n",
              "        vertical-align: middle;\n",
              "    }\n",
              "\n",
              "    .dataframe tbody tr th {\n",
              "        vertical-align: top;\n",
              "    }\n",
              "\n",
              "    .dataframe thead th {\n",
              "        text-align: right;\n",
              "    }\n",
              "</style>\n",
              "<table border=\"1\" class=\"dataframe\">\n",
              "  <thead>\n",
              "    <tr style=\"text-align: right;\">\n",
              "      <th></th>\n",
              "      <th>Recency</th>\n",
              "      <th>Frequency</th>\n",
              "      <th>Monetary</th>\n",
              "      <th>R_Quartile</th>\n",
              "      <th>F_Quartile</th>\n",
              "      <th>M_Quartile</th>\n",
              "    </tr>\n",
              "    <tr>\n",
              "      <th>CustomerID</th>\n",
              "      <th></th>\n",
              "      <th></th>\n",
              "      <th></th>\n",
              "      <th></th>\n",
              "      <th></th>\n",
              "      <th></th>\n",
              "    </tr>\n",
              "  </thead>\n",
              "  <tbody>\n",
              "    <tr>\n",
              "      <th>12747.0</th>\n",
              "      <td>109</td>\n",
              "      <td>5</td>\n",
              "      <td>191.85</td>\n",
              "      <td>3</td>\n",
              "      <td>4</td>\n",
              "      <td>4</td>\n",
              "    </tr>\n",
              "    <tr>\n",
              "      <th>12748.0</th>\n",
              "      <td>70</td>\n",
              "      <td>96</td>\n",
              "      <td>1054.43</td>\n",
              "      <td>4</td>\n",
              "      <td>4</td>\n",
              "      <td>4</td>\n",
              "    </tr>\n",
              "    <tr>\n",
              "      <th>12749.0</th>\n",
              "      <td>130</td>\n",
              "      <td>3</td>\n",
              "      <td>67.00</td>\n",
              "      <td>2</td>\n",
              "      <td>3</td>\n",
              "      <td>3</td>\n",
              "    </tr>\n",
              "    <tr>\n",
              "      <th>12820.0</th>\n",
              "      <td>74</td>\n",
              "      <td>1</td>\n",
              "      <td>15.00</td>\n",
              "      <td>4</td>\n",
              "      <td>1</td>\n",
              "      <td>1</td>\n",
              "    </tr>\n",
              "    <tr>\n",
              "      <th>12821.0</th>\n",
              "      <td>214</td>\n",
              "      <td>1</td>\n",
              "      <td>19.92</td>\n",
              "      <td>1</td>\n",
              "      <td>1</td>\n",
              "      <td>2</td>\n",
              "    </tr>\n",
              "  </tbody>\n",
              "</table>\n",
              "</div>"
            ],
            "text/plain": [
              "            Recency  Frequency  Monetary  R_Quartile  F_Quartile  M_Quartile\n",
              "CustomerID                                                                  \n",
              "12747.0         109          5    191.85           3           4           4\n",
              "12748.0          70         96   1054.43           4           4           4\n",
              "12749.0         130          3     67.00           2           3           3\n",
              "12820.0          74          1     15.00           4           1           1\n",
              "12821.0         214          1     19.92           1           1           2"
            ]
          },
          "execution_count": 42,
          "metadata": {},
          "output_type": "execute_result"
        }
      ],
      "source": [
        "rfm_segmentation.head()"
      ]
    },
    {
      "cell_type": "code",
      "execution_count": null,
      "id": "3fd5f7e0",
      "metadata": {
        "id": "3fd5f7e0",
        "outputId": "b7427262-2699-4e52-f449-412d04e55b0a"
      },
      "outputs": [
        {
          "data": {
            "text/html": [
              "<div>\n",
              "<style scoped>\n",
              "    .dataframe tbody tr th:only-of-type {\n",
              "        vertical-align: middle;\n",
              "    }\n",
              "\n",
              "    .dataframe tbody tr th {\n",
              "        vertical-align: top;\n",
              "    }\n",
              "\n",
              "    .dataframe thead th {\n",
              "        text-align: right;\n",
              "    }\n",
              "</style>\n",
              "<table border=\"1\" class=\"dataframe\">\n",
              "  <thead>\n",
              "    <tr style=\"text-align: right;\">\n",
              "      <th></th>\n",
              "      <th>Recency</th>\n",
              "      <th>Frequency</th>\n",
              "      <th>Monetary</th>\n",
              "      <th>R_Quartile</th>\n",
              "      <th>F_Quartile</th>\n",
              "      <th>M_Quartile</th>\n",
              "      <th>RFMScore</th>\n",
              "    </tr>\n",
              "    <tr>\n",
              "      <th>CustomerID</th>\n",
              "      <th></th>\n",
              "      <th></th>\n",
              "      <th></th>\n",
              "      <th></th>\n",
              "      <th></th>\n",
              "      <th></th>\n",
              "      <th></th>\n",
              "    </tr>\n",
              "  </thead>\n",
              "  <tbody>\n",
              "    <tr>\n",
              "      <th>12747.0</th>\n",
              "      <td>109</td>\n",
              "      <td>5</td>\n",
              "      <td>191.85</td>\n",
              "      <td>3</td>\n",
              "      <td>4</td>\n",
              "      <td>4</td>\n",
              "      <td>344</td>\n",
              "    </tr>\n",
              "    <tr>\n",
              "      <th>12748.0</th>\n",
              "      <td>70</td>\n",
              "      <td>96</td>\n",
              "      <td>1054.43</td>\n",
              "      <td>4</td>\n",
              "      <td>4</td>\n",
              "      <td>4</td>\n",
              "      <td>444</td>\n",
              "    </tr>\n",
              "    <tr>\n",
              "      <th>12749.0</th>\n",
              "      <td>130</td>\n",
              "      <td>3</td>\n",
              "      <td>67.00</td>\n",
              "      <td>2</td>\n",
              "      <td>3</td>\n",
              "      <td>3</td>\n",
              "      <td>233</td>\n",
              "    </tr>\n",
              "    <tr>\n",
              "      <th>12820.0</th>\n",
              "      <td>74</td>\n",
              "      <td>1</td>\n",
              "      <td>15.00</td>\n",
              "      <td>4</td>\n",
              "      <td>1</td>\n",
              "      <td>1</td>\n",
              "      <td>411</td>\n",
              "    </tr>\n",
              "    <tr>\n",
              "      <th>12821.0</th>\n",
              "      <td>214</td>\n",
              "      <td>1</td>\n",
              "      <td>19.92</td>\n",
              "      <td>1</td>\n",
              "      <td>1</td>\n",
              "      <td>2</td>\n",
              "      <td>112</td>\n",
              "    </tr>\n",
              "  </tbody>\n",
              "</table>\n",
              "</div>"
            ],
            "text/plain": [
              "            Recency  Frequency  Monetary  R_Quartile  F_Quartile  M_Quartile  \\\n",
              "CustomerID                                                                     \n",
              "12747.0         109          5    191.85           3           4           4   \n",
              "12748.0          70         96   1054.43           4           4           4   \n",
              "12749.0         130          3     67.00           2           3           3   \n",
              "12820.0          74          1     15.00           4           1           1   \n",
              "12821.0         214          1     19.92           1           1           2   \n",
              "\n",
              "           RFMScore  \n",
              "CustomerID           \n",
              "12747.0         344  \n",
              "12748.0         444  \n",
              "12749.0         233  \n",
              "12820.0         411  \n",
              "12821.0         112  "
            ]
          },
          "execution_count": 43,
          "metadata": {},
          "output_type": "execute_result"
        }
      ],
      "source": [
        "rfm_segmentation['RFMScore'] = rfm_segmentation.R_Quartile.map(str) \\\n",
        "                            + rfm_segmentation.F_Quartile.map(str) \\\n",
        "                            + rfm_segmentation.M_Quartile.map(str)\n",
        "rfm_segmentation.head()"
      ]
    },
    {
      "cell_type": "code",
      "execution_count": null,
      "id": "a97b4095",
      "metadata": {
        "id": "a97b4095",
        "outputId": "a7365065-dcac-4f74-de4e-2a834d410240"
      },
      "outputs": [
        {
          "name": "stdout",
          "output_type": "stream",
          "text": [
            "Best Customers:  218\n",
            "Loyal Customers:  687\n",
            "Big Spenders:  716\n",
            "Almost Lost:  52\n",
            "Lost Customers:  5\n",
            "Lost Cheap Customers:  278\n"
          ]
        }
      ],
      "source": [
        "print(\"Best Customers: \",len(rfm_segmentation[rfm_segmentation['RFMScore']=='444']))\n",
        "print('Loyal Customers: ',len(rfm_segmentation[rfm_segmentation['F_Quartile']==4]))\n",
        "print(\"Big Spenders: \",len(rfm_segmentation[rfm_segmentation['M_Quartile']==4]))\n",
        "print('Almost Lost: ', len(rfm_segmentation[rfm_segmentation['RFMScore']=='244']))\n",
        "print('Lost Customers: ',len(rfm_segmentation[rfm_segmentation['RFMScore']=='144']))\n",
        "print('Lost Cheap Customers: ',len(rfm_segmentation[rfm_segmentation['RFMScore']=='111']))"
      ]
    },
    {
      "cell_type": "code",
      "execution_count": null,
      "id": "28d7fc56",
      "metadata": {
        "id": "28d7fc56",
        "outputId": "34758abc-f058-477b-d2c5-61d861401128"
      },
      "outputs": [
        {
          "data": {
            "text/html": [
              "<div>\n",
              "<style scoped>\n",
              "    .dataframe tbody tr th:only-of-type {\n",
              "        vertical-align: middle;\n",
              "    }\n",
              "\n",
              "    .dataframe tbody tr th {\n",
              "        vertical-align: top;\n",
              "    }\n",
              "\n",
              "    .dataframe thead th {\n",
              "        text-align: right;\n",
              "    }\n",
              "</style>\n",
              "<table border=\"1\" class=\"dataframe\">\n",
              "  <thead>\n",
              "    <tr style=\"text-align: right;\">\n",
              "      <th></th>\n",
              "      <th>Recency</th>\n",
              "      <th>Frequency</th>\n",
              "      <th>Monetary</th>\n",
              "      <th>R_Quartile</th>\n",
              "      <th>F_Quartile</th>\n",
              "      <th>M_Quartile</th>\n",
              "      <th>RFMScore</th>\n",
              "    </tr>\n",
              "    <tr>\n",
              "      <th>CustomerID</th>\n",
              "      <th></th>\n",
              "      <th></th>\n",
              "      <th></th>\n",
              "      <th></th>\n",
              "      <th></th>\n",
              "      <th></th>\n",
              "      <th></th>\n",
              "    </tr>\n",
              "  </thead>\n",
              "  <tbody>\n",
              "    <tr>\n",
              "      <th>18102.0</th>\n",
              "      <td>72</td>\n",
              "      <td>34</td>\n",
              "      <td>26632.62</td>\n",
              "      <td>4</td>\n",
              "      <td>4</td>\n",
              "      <td>4</td>\n",
              "      <td>444</td>\n",
              "    </tr>\n",
              "    <tr>\n",
              "      <th>17949.0</th>\n",
              "      <td>70</td>\n",
              "      <td>32</td>\n",
              "      <td>22504.73</td>\n",
              "      <td>4</td>\n",
              "      <td>4</td>\n",
              "      <td>4</td>\n",
              "      <td>444</td>\n",
              "    </tr>\n",
              "    <tr>\n",
              "      <th>17450.0</th>\n",
              "      <td>70</td>\n",
              "      <td>28</td>\n",
              "      <td>18009.06</td>\n",
              "      <td>4</td>\n",
              "      <td>4</td>\n",
              "      <td>4</td>\n",
              "      <td>444</td>\n",
              "    </tr>\n",
              "    <tr>\n",
              "      <th>16029.0</th>\n",
              "      <td>80</td>\n",
              "      <td>39</td>\n",
              "      <td>15119.49</td>\n",
              "      <td>4</td>\n",
              "      <td>4</td>\n",
              "      <td>4</td>\n",
              "      <td>444</td>\n",
              "    </tr>\n",
              "    <tr>\n",
              "      <th>16013.0</th>\n",
              "      <td>70</td>\n",
              "      <td>24</td>\n",
              "      <td>10402.34</td>\n",
              "      <td>4</td>\n",
              "      <td>4</td>\n",
              "      <td>4</td>\n",
              "      <td>444</td>\n",
              "    </tr>\n",
              "    <tr>\n",
              "      <th>12901.0</th>\n",
              "      <td>81</td>\n",
              "      <td>20</td>\n",
              "      <td>5915.66</td>\n",
              "      <td>4</td>\n",
              "      <td>4</td>\n",
              "      <td>4</td>\n",
              "      <td>444</td>\n",
              "    </tr>\n",
              "    <tr>\n",
              "      <th>13798.0</th>\n",
              "      <td>72</td>\n",
              "      <td>34</td>\n",
              "      <td>4648.80</td>\n",
              "      <td>4</td>\n",
              "      <td>4</td>\n",
              "      <td>4</td>\n",
              "      <td>444</td>\n",
              "    </tr>\n",
              "    <tr>\n",
              "      <th>17857.0</th>\n",
              "      <td>72</td>\n",
              "      <td>12</td>\n",
              "      <td>4644.68</td>\n",
              "      <td>4</td>\n",
              "      <td>4</td>\n",
              "      <td>4</td>\n",
              "      <td>444</td>\n",
              "    </tr>\n",
              "    <tr>\n",
              "      <th>13694.0</th>\n",
              "      <td>71</td>\n",
              "      <td>32</td>\n",
              "      <td>4472.68</td>\n",
              "      <td>4</td>\n",
              "      <td>4</td>\n",
              "      <td>4</td>\n",
              "      <td>444</td>\n",
              "    </tr>\n",
              "    <tr>\n",
              "      <th>15061.0</th>\n",
              "      <td>73</td>\n",
              "      <td>23</td>\n",
              "      <td>3417.70</td>\n",
              "      <td>4</td>\n",
              "      <td>4</td>\n",
              "      <td>4</td>\n",
              "      <td>444</td>\n",
              "    </tr>\n",
              "  </tbody>\n",
              "</table>\n",
              "</div>"
            ],
            "text/plain": [
              "            Recency  Frequency  Monetary  R_Quartile  F_Quartile  M_Quartile  \\\n",
              "CustomerID                                                                     \n",
              "18102.0          72         34  26632.62           4           4           4   \n",
              "17949.0          70         32  22504.73           4           4           4   \n",
              "17450.0          70         28  18009.06           4           4           4   \n",
              "16029.0          80         39  15119.49           4           4           4   \n",
              "16013.0          70         24  10402.34           4           4           4   \n",
              "12901.0          81         20   5915.66           4           4           4   \n",
              "13798.0          72         34   4648.80           4           4           4   \n",
              "17857.0          72         12   4644.68           4           4           4   \n",
              "13694.0          71         32   4472.68           4           4           4   \n",
              "15061.0          73         23   3417.70           4           4           4   \n",
              "\n",
              "           RFMScore  \n",
              "CustomerID           \n",
              "18102.0         444  \n",
              "17949.0         444  \n",
              "17450.0         444  \n",
              "16029.0         444  \n",
              "16013.0         444  \n",
              "12901.0         444  \n",
              "13798.0         444  \n",
              "17857.0         444  \n",
              "13694.0         444  \n",
              "15061.0         444  "
            ]
          },
          "execution_count": 45,
          "metadata": {},
          "output_type": "execute_result"
        }
      ],
      "source": [
        "#dispaying customer id of top 10 customers\n",
        "rfm_segmentation[rfm_segmentation['RFMScore']=='444'].sort_values('Monetary', ascending=False).head(10)"
      ]
    },
    {
      "cell_type": "code",
      "execution_count": null,
      "id": "fbfc1ae9",
      "metadata": {
        "id": "fbfc1ae9",
        "outputId": "e06572c9-5c62-4635-fad4-1985eda45a42"
      },
      "outputs": [
        {
          "data": {
            "text/html": [
              "<div>\n",
              "<style scoped>\n",
              "    .dataframe tbody tr th:only-of-type {\n",
              "        vertical-align: middle;\n",
              "    }\n",
              "\n",
              "    .dataframe tbody tr th {\n",
              "        vertical-align: top;\n",
              "    }\n",
              "\n",
              "    .dataframe thead th {\n",
              "        text-align: right;\n",
              "    }\n",
              "</style>\n",
              "<table border=\"1\" class=\"dataframe\">\n",
              "  <thead>\n",
              "    <tr style=\"text-align: right;\">\n",
              "      <th></th>\n",
              "      <th>Recency</th>\n",
              "      <th>Frequency</th>\n",
              "      <th>Monetary</th>\n",
              "      <th>R_Quartile</th>\n",
              "      <th>F_Quartile</th>\n",
              "      <th>M_Quartile</th>\n",
              "      <th>RFMScore</th>\n",
              "    </tr>\n",
              "    <tr>\n",
              "      <th>CustomerID</th>\n",
              "      <th></th>\n",
              "      <th></th>\n",
              "      <th></th>\n",
              "      <th></th>\n",
              "      <th></th>\n",
              "      <th></th>\n",
              "      <th></th>\n",
              "    </tr>\n",
              "  </thead>\n",
              "  <tbody>\n",
              "    <tr>\n",
              "      <th>12747.0</th>\n",
              "      <td>109</td>\n",
              "      <td>5</td>\n",
              "      <td>191.85</td>\n",
              "      <td>3</td>\n",
              "      <td>4</td>\n",
              "      <td>4</td>\n",
              "      <td>344</td>\n",
              "    </tr>\n",
              "    <tr>\n",
              "      <th>12748.0</th>\n",
              "      <td>70</td>\n",
              "      <td>96</td>\n",
              "      <td>1054.43</td>\n",
              "      <td>4</td>\n",
              "      <td>4</td>\n",
              "      <td>4</td>\n",
              "      <td>444</td>\n",
              "    </tr>\n",
              "    <tr>\n",
              "      <th>12749.0</th>\n",
              "      <td>130</td>\n",
              "      <td>3</td>\n",
              "      <td>67.00</td>\n",
              "      <td>2</td>\n",
              "      <td>3</td>\n",
              "      <td>3</td>\n",
              "      <td>233</td>\n",
              "    </tr>\n",
              "    <tr>\n",
              "      <th>12820.0</th>\n",
              "      <td>74</td>\n",
              "      <td>1</td>\n",
              "      <td>15.00</td>\n",
              "      <td>4</td>\n",
              "      <td>1</td>\n",
              "      <td>1</td>\n",
              "      <td>411</td>\n",
              "    </tr>\n",
              "    <tr>\n",
              "      <th>12821.0</th>\n",
              "      <td>214</td>\n",
              "      <td>1</td>\n",
              "      <td>19.92</td>\n",
              "      <td>1</td>\n",
              "      <td>1</td>\n",
              "      <td>2</td>\n",
              "      <td>112</td>\n",
              "    </tr>\n",
              "    <tr>\n",
              "      <th>...</th>\n",
              "      <td>...</td>\n",
              "      <td>...</td>\n",
              "      <td>...</td>\n",
              "      <td>...</td>\n",
              "      <td>...</td>\n",
              "      <td>...</td>\n",
              "      <td>...</td>\n",
              "    </tr>\n",
              "    <tr>\n",
              "      <th>18280.0</th>\n",
              "      <td>277</td>\n",
              "      <td>1</td>\n",
              "      <td>23.70</td>\n",
              "      <td>1</td>\n",
              "      <td>1</td>\n",
              "      <td>2</td>\n",
              "      <td>112</td>\n",
              "    </tr>\n",
              "    <tr>\n",
              "      <th>18281.0</th>\n",
              "      <td>180</td>\n",
              "      <td>1</td>\n",
              "      <td>5.04</td>\n",
              "      <td>2</td>\n",
              "      <td>1</td>\n",
              "      <td>1</td>\n",
              "      <td>211</td>\n",
              "    </tr>\n",
              "    <tr>\n",
              "      <th>18282.0</th>\n",
              "      <td>126</td>\n",
              "      <td>1</td>\n",
              "      <td>12.75</td>\n",
              "      <td>2</td>\n",
              "      <td>1</td>\n",
              "      <td>1</td>\n",
              "      <td>211</td>\n",
              "    </tr>\n",
              "    <tr>\n",
              "      <th>18283.0</th>\n",
              "      <td>95</td>\n",
              "      <td>7</td>\n",
              "      <td>35.95</td>\n",
              "      <td>3</td>\n",
              "      <td>4</td>\n",
              "      <td>3</td>\n",
              "      <td>343</td>\n",
              "    </tr>\n",
              "    <tr>\n",
              "      <th>18287.0</th>\n",
              "      <td>201</td>\n",
              "      <td>1</td>\n",
              "      <td>10.20</td>\n",
              "      <td>1</td>\n",
              "      <td>1</td>\n",
              "      <td>1</td>\n",
              "      <td>111</td>\n",
              "    </tr>\n",
              "  </tbody>\n",
              "</table>\n",
              "<p>2864 rows × 7 columns</p>\n",
              "</div>"
            ],
            "text/plain": [
              "            Recency  Frequency  Monetary  R_Quartile  F_Quartile  M_Quartile  \\\n",
              "CustomerID                                                                     \n",
              "12747.0         109          5    191.85           3           4           4   \n",
              "12748.0          70         96   1054.43           4           4           4   \n",
              "12749.0         130          3     67.00           2           3           3   \n",
              "12820.0          74          1     15.00           4           1           1   \n",
              "12821.0         214          1     19.92           1           1           2   \n",
              "...             ...        ...       ...         ...         ...         ...   \n",
              "18280.0         277          1     23.70           1           1           2   \n",
              "18281.0         180          1      5.04           2           1           1   \n",
              "18282.0         126          1     12.75           2           1           1   \n",
              "18283.0          95          7     35.95           3           4           3   \n",
              "18287.0         201          1     10.20           1           1           1   \n",
              "\n",
              "           RFMScore  \n",
              "CustomerID           \n",
              "12747.0         344  \n",
              "12748.0         444  \n",
              "12749.0         233  \n",
              "12820.0         411  \n",
              "12821.0         112  \n",
              "...             ...  \n",
              "18280.0         112  \n",
              "18281.0         211  \n",
              "18282.0         211  \n",
              "18283.0         343  \n",
              "18287.0         111  \n",
              "\n",
              "[2864 rows x 7 columns]"
            ]
          },
          "execution_count": 46,
          "metadata": {},
          "output_type": "execute_result"
        }
      ],
      "source": [
        "df_rfm"
      ]
    },
    {
      "cell_type": "markdown",
      "id": "655d4865",
      "metadata": {
        "id": "655d4865"
      },
      "source": [
        "<h5>Preprocessing the data for clustering</h5>"
      ]
    },
    {
      "cell_type": "code",
      "execution_count": null,
      "id": "c86c21c6",
      "metadata": {
        "id": "c86c21c6",
        "outputId": "b8c9f504-4ed8-4d41-9ff6-630b3d20e18a"
      },
      "outputs": [
        {
          "data": {
            "text/plain": [
              "<AxesSubplot:xlabel='Monetary', ylabel='Density'>"
            ]
          },
          "execution_count": 47,
          "metadata": {},
          "output_type": "execute_result"
        },
        {
          "data": {
            "image/png": "[encoded data removed]",
            "text/plain": [
              "<Figure size 720x720 with 3 Axes>"
            ]
          },
          "metadata": {
            "needs_background": "light"
          },
          "output_type": "display_data"
        }
      ],
      "source": [
        "#Checking the distribution of values in Recency, Frequency and Monetary variable\n",
        "plt.figure(figsize=(10,10))\n",
        "plt.subplot(3,1,1);sns.distplot(df_rfm['Recency'])\n",
        "plt.subplot(3,1,2);sns.distplot(df_rfm['Frequency'])\n",
        "plt.subplot(3,1,3);sns.distplot(df_rfm['Monetary'])"
      ]
    },
    {
      "cell_type": "markdown",
      "id": "22d2befa",
      "metadata": {
        "id": "22d2befa"
      },
      "source": [
        "From above graphs we can see the data is right skewed which needs to be treated before applying model"
      ]
    },
    {
      "cell_type": "code",
      "execution_count": null,
      "id": "e064ddf4",
      "metadata": {
        "id": "e064ddf4"
      },
      "outputs": [],
      "source": [
        "df = df_rfm.drop(['R_Quartile','F_Quartile','M_Quartile','RFMScore'], axis = 1)"
      ]
    },
    {
      "cell_type": "code",
      "execution_count": null,
      "id": "bd20da45",
      "metadata": {
        "id": "bd20da45",
        "outputId": "d5ab60f8-f50e-4482-b4df-dee83e52cefa"
      },
      "outputs": [
        {
          "data": {
            "text/html": [
              "<div>\n",
              "<style scoped>\n",
              "    .dataframe tbody tr th:only-of-type {\n",
              "        vertical-align: middle;\n",
              "    }\n",
              "\n",
              "    .dataframe tbody tr th {\n",
              "        vertical-align: top;\n",
              "    }\n",
              "\n",
              "    .dataframe thead th {\n",
              "        text-align: right;\n",
              "    }\n",
              "</style>\n",
              "<table border=\"1\" class=\"dataframe\">\n",
              "  <thead>\n",
              "    <tr style=\"text-align: right;\">\n",
              "      <th></th>\n",
              "      <th>Recency</th>\n",
              "      <th>Frequency</th>\n",
              "      <th>Monetary</th>\n",
              "    </tr>\n",
              "    <tr>\n",
              "      <th>CustomerID</th>\n",
              "      <th></th>\n",
              "      <th></th>\n",
              "      <th></th>\n",
              "    </tr>\n",
              "  </thead>\n",
              "  <tbody>\n",
              "    <tr>\n",
              "      <th>12747.0</th>\n",
              "      <td>109</td>\n",
              "      <td>5</td>\n",
              "      <td>191.85</td>\n",
              "    </tr>\n",
              "    <tr>\n",
              "      <th>12748.0</th>\n",
              "      <td>70</td>\n",
              "      <td>96</td>\n",
              "      <td>1054.43</td>\n",
              "    </tr>\n",
              "    <tr>\n",
              "      <th>12749.0</th>\n",
              "      <td>130</td>\n",
              "      <td>3</td>\n",
              "      <td>67.00</td>\n",
              "    </tr>\n",
              "    <tr>\n",
              "      <th>12820.0</th>\n",
              "      <td>74</td>\n",
              "      <td>1</td>\n",
              "      <td>15.00</td>\n",
              "    </tr>\n",
              "    <tr>\n",
              "      <th>12821.0</th>\n",
              "      <td>214</td>\n",
              "      <td>1</td>\n",
              "      <td>19.92</td>\n",
              "    </tr>\n",
              "    <tr>\n",
              "      <th>...</th>\n",
              "      <td>...</td>\n",
              "      <td>...</td>\n",
              "      <td>...</td>\n",
              "    </tr>\n",
              "    <tr>\n",
              "      <th>18280.0</th>\n",
              "      <td>277</td>\n",
              "      <td>1</td>\n",
              "      <td>23.70</td>\n",
              "    </tr>\n",
              "    <tr>\n",
              "      <th>18281.0</th>\n",
              "      <td>180</td>\n",
              "      <td>1</td>\n",
              "      <td>5.04</td>\n",
              "    </tr>\n",
              "    <tr>\n",
              "      <th>18282.0</th>\n",
              "      <td>126</td>\n",
              "      <td>1</td>\n",
              "      <td>12.75</td>\n",
              "    </tr>\n",
              "    <tr>\n",
              "      <th>18283.0</th>\n",
              "      <td>95</td>\n",
              "      <td>7</td>\n",
              "      <td>35.95</td>\n",
              "    </tr>\n",
              "    <tr>\n",
              "      <th>18287.0</th>\n",
              "      <td>201</td>\n",
              "      <td>1</td>\n",
              "      <td>10.20</td>\n",
              "    </tr>\n",
              "  </tbody>\n",
              "</table>\n",
              "<p>2864 rows × 3 columns</p>\n",
              "</div>"
            ],
            "text/plain": [
              "            Recency  Frequency  Monetary\n",
              "CustomerID                              \n",
              "12747.0         109          5    191.85\n",
              "12748.0          70         96   1054.43\n",
              "12749.0         130          3     67.00\n",
              "12820.0          74          1     15.00\n",
              "12821.0         214          1     19.92\n",
              "...             ...        ...       ...\n",
              "18280.0         277          1     23.70\n",
              "18281.0         180          1      5.04\n",
              "18282.0         126          1     12.75\n",
              "18283.0          95          7     35.95\n",
              "18287.0         201          1     10.20\n",
              "\n",
              "[2864 rows x 3 columns]"
            ]
          },
          "execution_count": 49,
          "metadata": {},
          "output_type": "execute_result"
        }
      ],
      "source": [
        "df"
      ]
    },
    {
      "cell_type": "code",
      "execution_count": null,
      "id": "824051e8",
      "metadata": {
        "id": "824051e8",
        "outputId": "9624e44f-ebe7-4c62-9de7-6853c1dfe26d"
      },
      "outputs": [
        {
          "data": {
            "text/plain": [
              "<AxesSubplot:>"
            ]
          },
          "execution_count": 50,
          "metadata": {},
          "output_type": "execute_result"
        },
        {
          "data": {
            "image/png": "[encoded data removed]",
            "text/plain": [
              "<Figure size 432x288 with 2 Axes>"
            ]
          },
          "metadata": {
            "needs_background": "light"
          },
          "output_type": "display_data"
        }
      ],
      "source": [
        "#to plot the correlation between recency, frequency and monitory\n",
        "sns.heatmap(df.corr())"
      ]
    },
    {
      "cell_type": "markdown",
      "id": "863110f6",
      "metadata": {
        "id": "863110f6"
      },
      "source": [
        "We observe a Recency has negative correlation with Frequency and Monetary.\n",
        "There is littile correlation between monetary and frequency."
      ]
    },
    {
      "cell_type": "code",
      "execution_count": null,
      "id": "de9725ca",
      "metadata": {
        "id": "de9725ca"
      },
      "outputs": [],
      "source": [
        "#applying log transformation to treat skewed data present\n",
        "a= np.log(df['Recency'])\n",
        "b= np.log(df['Frequency'])\n",
        "c= np.log(df['Monetary'])"
      ]
    },
    {
      "cell_type": "code",
      "execution_count": null,
      "id": "015e1afb",
      "metadata": {
        "id": "015e1afb",
        "outputId": "7cba39cb-92ff-49f4-eb66-71acda601840"
      },
      "outputs": [
        {
          "data": {
            "text/html": [
              "<div>\n",
              "<style scoped>\n",
              "    .dataframe tbody tr th:only-of-type {\n",
              "        vertical-align: middle;\n",
              "    }\n",
              "\n",
              "    .dataframe tbody tr th {\n",
              "        vertical-align: top;\n",
              "    }\n",
              "\n",
              "    .dataframe thead th {\n",
              "        text-align: right;\n",
              "    }\n",
              "</style>\n",
              "<table border=\"1\" class=\"dataframe\">\n",
              "  <thead>\n",
              "    <tr style=\"text-align: right;\">\n",
              "      <th></th>\n",
              "      <th>Recency</th>\n",
              "      <th>Frequency</th>\n",
              "      <th>Monetary</th>\n",
              "    </tr>\n",
              "    <tr>\n",
              "      <th>CustomerID</th>\n",
              "      <th></th>\n",
              "      <th></th>\n",
              "      <th></th>\n",
              "    </tr>\n",
              "  </thead>\n",
              "  <tbody>\n",
              "    <tr>\n",
              "      <th>12747.0</th>\n",
              "      <td>4.691348</td>\n",
              "      <td>1.609438</td>\n",
              "      <td>5.256714</td>\n",
              "    </tr>\n",
              "    <tr>\n",
              "      <th>12748.0</th>\n",
              "      <td>4.248495</td>\n",
              "      <td>4.564348</td>\n",
              "      <td>6.960756</td>\n",
              "    </tr>\n",
              "    <tr>\n",
              "      <th>12749.0</th>\n",
              "      <td>4.867534</td>\n",
              "      <td>1.098612</td>\n",
              "      <td>4.204693</td>\n",
              "    </tr>\n",
              "    <tr>\n",
              "      <th>12820.0</th>\n",
              "      <td>4.304065</td>\n",
              "      <td>0.000000</td>\n",
              "      <td>2.708050</td>\n",
              "    </tr>\n",
              "    <tr>\n",
              "      <th>12821.0</th>\n",
              "      <td>5.365976</td>\n",
              "      <td>0.000000</td>\n",
              "      <td>2.991724</td>\n",
              "    </tr>\n",
              "    <tr>\n",
              "      <th>...</th>\n",
              "      <td>...</td>\n",
              "      <td>...</td>\n",
              "      <td>...</td>\n",
              "    </tr>\n",
              "    <tr>\n",
              "      <th>18280.0</th>\n",
              "      <td>5.624018</td>\n",
              "      <td>0.000000</td>\n",
              "      <td>3.165475</td>\n",
              "    </tr>\n",
              "    <tr>\n",
              "      <th>18281.0</th>\n",
              "      <td>5.192957</td>\n",
              "      <td>0.000000</td>\n",
              "      <td>1.617406</td>\n",
              "    </tr>\n",
              "    <tr>\n",
              "      <th>18282.0</th>\n",
              "      <td>4.836282</td>\n",
              "      <td>0.000000</td>\n",
              "      <td>2.545531</td>\n",
              "    </tr>\n",
              "    <tr>\n",
              "      <th>18283.0</th>\n",
              "      <td>4.553877</td>\n",
              "      <td>1.945910</td>\n",
              "      <td>3.582129</td>\n",
              "    </tr>\n",
              "    <tr>\n",
              "      <th>18287.0</th>\n",
              "      <td>5.303305</td>\n",
              "      <td>0.000000</td>\n",
              "      <td>2.322388</td>\n",
              "    </tr>\n",
              "  </tbody>\n",
              "</table>\n",
              "<p>2864 rows × 3 columns</p>\n",
              "</div>"
            ],
            "text/plain": [
              "             Recency  Frequency  Monetary\n",
              "CustomerID                               \n",
              "12747.0     4.691348   1.609438  5.256714\n",
              "12748.0     4.248495   4.564348  6.960756\n",
              "12749.0     4.867534   1.098612  4.204693\n",
              "12820.0     4.304065   0.000000  2.708050\n",
              "12821.0     5.365976   0.000000  2.991724\n",
              "...              ...        ...       ...\n",
              "18280.0     5.624018   0.000000  3.165475\n",
              "18281.0     5.192957   0.000000  1.617406\n",
              "18282.0     4.836282   0.000000  2.545531\n",
              "18283.0     4.553877   1.945910  3.582129\n",
              "18287.0     5.303305   0.000000  2.322388\n",
              "\n",
              "[2864 rows x 3 columns]"
            ]
          },
          "execution_count": 52,
          "metadata": {},
          "output_type": "execute_result"
        }
      ],
      "source": [
        "#creating dataframe\n",
        "df_log = pd.DataFrame({'Recency':a,'Frequency':b,'Monetary':c})\n",
        "df_log"
      ]
    },
    {
      "cell_type": "code",
      "execution_count": null,
      "id": "42fb378f",
      "metadata": {
        "id": "42fb378f",
        "outputId": "9c9c1ff9-1a64-4eec-92ab-e3bb433555eb"
      },
      "outputs": [
        {
          "data": {
            "text/plain": [
              "<AxesSubplot:xlabel='Monetary', ylabel='Density'>"
            ]
          },
          "execution_count": 53,
          "metadata": {},
          "output_type": "execute_result"
        },
        {
          "data": {
            "image/png": "[encoded data removed]",
            "text/plain": [
              "<Figure size 720x720 with 3 Axes>"
            ]
          },
          "metadata": {
            "needs_background": "light"
          },
          "output_type": "display_data"
        }
      ],
      "source": [
        "#Checking the distribution of values in Recency, Frequency and Monetary variable after applying log transformation\n",
        "plt.figure(figsize=(10,10))\n",
        "plt.subplot(3,1,1);sns.distplot(df_log['Recency'])\n",
        "plt.subplot(3,1,2);sns.distplot(df_log['Frequency'])\n",
        "plt.subplot(3,1,3);sns.distplot(df_log['Monetary'])"
      ]
    },
    {
      "cell_type": "markdown",
      "id": "a4bc76d7",
      "metadata": {
        "id": "a4bc76d7"
      },
      "source": [
        "After applying log transformation we see Recency and Monetary have better distributon, more normalized. But this is not the case for Frequency which has improved little only."
      ]
    },
    {
      "cell_type": "code",
      "execution_count": null,
      "id": "999eea35",
      "metadata": {
        "id": "999eea35"
      },
      "outputs": [],
      "source": [
        "#importing k-Means\n",
        "from sklearn.cluster import KMeans"
      ]
    },
    {
      "cell_type": "code",
      "execution_count": null,
      "id": "b816c556",
      "metadata": {
        "id": "b816c556",
        "outputId": "c3c6e20a-47a3-4d50-acb6-d2fa8d89e6af"
      },
      "outputs": [
        {
          "data": {
            "image/png": "[encoded data removed]",
            "text/plain": [
              "<Figure size 432x288 with 1 Axes>"
            ]
          },
          "metadata": {
            "needs_background": "light"
          },
          "output_type": "display_data"
        }
      ],
      "source": [
        "#plotting elbow curve to find the suitable number of cluster\n",
        "kmeans_models = [KMeans(n_clusters=k, random_state=23).fit(df_log) for k in range (1, 10)]\n",
        "innertia = [model.inertia_ for model in kmeans_models]\n",
        "\n",
        "plt.plot(range(1, 10), innertia)\n",
        "plt.title('Elbow method')\n",
        "plt.xlabel('Number of Clusters')\n",
        "plt.ylabel('')\n",
        "plt.show()"
      ]
    },
    {
      "cell_type": "markdown",
      "id": "099a54b7",
      "metadata": {
        "id": "099a54b7"
      },
      "source": [
        "From the above elbow method we see that the optimal number of cluster is 2 or 3.<br>\n",
        "we will also use silhouette method to find the suitable number of cluster."
      ]
    },
    {
      "cell_type": "code",
      "execution_count": null,
      "id": "437f8694",
      "metadata": {
        "id": "437f8694",
        "outputId": "940c447e-6eb0-4c91-e6af-2004c14f1477"
      },
      "outputs": [
        {
          "data": {
            "image/png": "[encoded data removed]",
            "text/plain": [
              "<Figure size 432x288 with 1 Axes>"
            ]
          },
          "metadata": {
            "needs_background": "light"
          },
          "output_type": "display_data"
        }
      ],
      "source": [
        "from sklearn.metrics import silhouette_score\n",
        "##plotting silhouette score vs number of clusters\n",
        "silhoutte_scores = [silhouette_score(df_log, model.labels_) for model in kmeans_models[1:4]]\n",
        "plt.plot(range(2,5), silhoutte_scores, \"bo-\")\n",
        "plt.xticks([1, 2, 3, 4, 5])\n",
        "plt.title('Silhouette scores vs Number of clusters')\n",
        "plt.xlabel('Number of clusters')\n",
        "plt.ylabel('Silhoutte score')\n",
        "plt.show()"
      ]
    },
    {
      "cell_type": "markdown",
      "id": "5f398b80",
      "metadata": {
        "id": "5f398b80"
      },
      "source": [
        "From the above graph we find silhouette score is highest for the value of k=2"
      ]
    },
    {
      "cell_type": "code",
      "execution_count": null,
      "id": "5b56fda2",
      "metadata": {
        "id": "5b56fda2",
        "outputId": "b513df30-442f-4edc-f766-f5266562c623"
      },
      "outputs": [
        {
          "data": {
            "text/html": [
              "<style>#sk-container-id-1 {color: black;background-color: white;}#sk-container-id-1 pre{padding: 0;}#sk-container-id-1 div.sk-toggleable {background-color: white;}#sk-container-id-1 label.sk-toggleable__label {cursor: pointer;display: block;width: 100%;margin-bottom: 0;padding: 0.3em;box-sizing: border-box;text-align: center;}#sk-container-id-1 label.sk-toggleable__label-arrow:before {content: \"▸\";float: left;margin-right: 0.25em;color: #696969;}#sk-container-id-1 label.sk-toggleable__label-arrow:hover:before {color: black;}#sk-container-id-1 div.sk-estimator:hover label.sk-toggleable__label-arrow:before {color: black;}#sk-container-id-1 div.sk-toggleable__content {max-height: 0;max-width: 0;overflow: hidden;text-align: left;background-color: #f0f8ff;}#sk-container-id-1 div.sk-toggleable__content pre {margin: 0.2em;color: black;border-radius: 0.25em;background-color: #f0f8ff;}#sk-container-id-1 input.sk-toggleable__control:checked~div.sk-toggleable__content {max-height: 200px;max-width: 100%;overflow: auto;}#sk-container-id-1 input.sk-toggleable__control:checked~label.sk-toggleable__label-arrow:before {content: \"▾\";}#sk-container-id-1 div.sk-estimator input.sk-toggleable__control:checked~label.sk-toggleable__label {background-color: #d4ebff;}#sk-container-id-1 div.sk-label input.sk-toggleable__control:checked~label.sk-toggleable__label {background-color: #d4ebff;}#sk-container-id-1 input.sk-hidden--visually {border: 0;clip: rect(1px 1px 1px 1px);clip: rect(1px, 1px, 1px, 1px);height: 1px;margin: -1px;overflow: hidden;padding: 0;position: absolute;width: 1px;}#sk-container-id-1 div.sk-estimator {font-family: monospace;background-color: #f0f8ff;border: 1px dotted black;border-radius: 0.25em;box-sizing: border-box;margin-bottom: 0.5em;}#sk-container-id-1 div.sk-estimator:hover {background-color: #d4ebff;}#sk-container-id-1 div.sk-parallel-item::after {content: \"\";width: 100%;border-bottom: 1px solid gray;flex-grow: 1;}#sk-container-id-1 div.sk-label:hover label.sk-toggleable__label {background-color: #d4ebff;}#sk-container-id-1 div.sk-serial::before {content: \"\";position: absolute;border-left: 1px solid gray;box-sizing: border-box;top: 0;bottom: 0;left: 50%;z-index: 0;}#sk-container-id-1 div.sk-serial {display: flex;flex-direction: column;align-items: center;background-color: white;padding-right: 0.2em;padding-left: 0.2em;position: relative;}#sk-container-id-1 div.sk-item {position: relative;z-index: 1;}#sk-container-id-1 div.sk-parallel {display: flex;align-items: stretch;justify-content: center;background-color: white;position: relative;}#sk-container-id-1 div.sk-item::before, #sk-container-id-1 div.sk-parallel-item::before {content: \"\";position: absolute;border-left: 1px solid gray;box-sizing: border-box;top: 0;bottom: 0;left: 50%;z-index: -1;}#sk-container-id-1 div.sk-parallel-item {display: flex;flex-direction: column;z-index: 1;position: relative;background-color: white;}#sk-container-id-1 div.sk-parallel-item:first-child::after {align-self: flex-end;width: 50%;}#sk-container-id-1 div.sk-parallel-item:last-child::after {align-self: flex-start;width: 50%;}#sk-container-id-1 div.sk-parallel-item:only-child::after {width: 0;}#sk-container-id-1 div.sk-dashed-wrapped {border: 1px dashed gray;margin: 0 0.4em 0.5em 0.4em;box-sizing: border-box;padding-bottom: 0.4em;background-color: white;}#sk-container-id-1 div.sk-label label {font-family: monospace;font-weight: bold;display: inline-block;line-height: 1.2em;}#sk-container-id-1 div.sk-label-container {text-align: center;}#sk-container-id-1 div.sk-container {/* jupyter's `normalize.less` sets `[hidden] { display: none; }` but bootstrap.min.css set `[hidden] { display: none !important; }` so we also need the `!important` here to be able to override the default hidden behavior on the sphinx rendered scikit-learn.org. See: https://github.com/scikit-learn/scikit-learn/issues/21755 */display: inline-block !important;position: relative;}#sk-container-id-1 div.sk-text-repr-fallback {display: none;}</style><div id=\"sk-container-id-1\" class=\"sk-top-container\"><div class=\"sk-text-repr-fallback\"><pre>KMeans(n_clusters=2, random_state=1)</pre><b>In a Jupyter environment, please rerun this cell to show the HTML representation or trust the notebook. <br />On GitHub, the HTML representation is unable to render, please try loading this page with nbviewer.org.</b></div><div class=\"sk-container\" hidden><div class=\"sk-item\"><div class=\"sk-estimator sk-toggleable\"><input class=\"sk-toggleable__control sk-hidden--visually\" id=\"sk-estimator-id-1\" type=\"checkbox\" checked><label for=\"sk-estimator-id-1\" class=\"sk-toggleable__label sk-toggleable__label-arrow\">KMeans</label><div class=\"sk-toggleable__content\"><pre>KMeans(n_clusters=2, random_state=1)</pre></div></div></div></div></div>"
            ],
            "text/plain": [
              "KMeans(n_clusters=2, random_state=1)"
            ]
          },
          "execution_count": 57,
          "metadata": {},
          "output_type": "execute_result"
        }
      ],
      "source": [
        "#finallly using k means model with k =2\n",
        "kmeans = KMeans(n_clusters=2, random_state=1)\n",
        "kmeans.fit(df_log)"
      ]
    },
    {
      "cell_type": "code",
      "execution_count": null,
      "id": "1a1214d1",
      "metadata": {
        "id": "1a1214d1",
        "outputId": "b1b68150-4cbc-44f6-cc09-db3961dd0aa1"
      },
      "outputs": [
        {
          "data": {
            "text/html": [
              "<div>\n",
              "<style scoped>\n",
              "    .dataframe tbody tr th:only-of-type {\n",
              "        vertical-align: middle;\n",
              "    }\n",
              "\n",
              "    .dataframe tbody tr th {\n",
              "        vertical-align: top;\n",
              "    }\n",
              "\n",
              "    .dataframe thead th {\n",
              "        text-align: right;\n",
              "    }\n",
              "</style>\n",
              "<table border=\"1\" class=\"dataframe\">\n",
              "  <thead>\n",
              "    <tr style=\"text-align: right;\">\n",
              "      <th></th>\n",
              "      <th>Recency</th>\n",
              "      <th>Frequency</th>\n",
              "      <th>Monetary</th>\n",
              "    </tr>\n",
              "    <tr>\n",
              "      <th>CustomerID</th>\n",
              "      <th></th>\n",
              "      <th></th>\n",
              "      <th></th>\n",
              "    </tr>\n",
              "  </thead>\n",
              "  <tbody>\n",
              "    <tr>\n",
              "      <th>12747.0</th>\n",
              "      <td>4.691348</td>\n",
              "      <td>1.609438</td>\n",
              "      <td>5.256714</td>\n",
              "    </tr>\n",
              "    <tr>\n",
              "      <th>12748.0</th>\n",
              "      <td>4.248495</td>\n",
              "      <td>4.564348</td>\n",
              "      <td>6.960756</td>\n",
              "    </tr>\n",
              "    <tr>\n",
              "      <th>12749.0</th>\n",
              "      <td>4.867534</td>\n",
              "      <td>1.098612</td>\n",
              "      <td>4.204693</td>\n",
              "    </tr>\n",
              "    <tr>\n",
              "      <th>12820.0</th>\n",
              "      <td>4.304065</td>\n",
              "      <td>0.000000</td>\n",
              "      <td>2.708050</td>\n",
              "    </tr>\n",
              "    <tr>\n",
              "      <th>12821.0</th>\n",
              "      <td>5.365976</td>\n",
              "      <td>0.000000</td>\n",
              "      <td>2.991724</td>\n",
              "    </tr>\n",
              "    <tr>\n",
              "      <th>...</th>\n",
              "      <td>...</td>\n",
              "      <td>...</td>\n",
              "      <td>...</td>\n",
              "    </tr>\n",
              "    <tr>\n",
              "      <th>18280.0</th>\n",
              "      <td>5.624018</td>\n",
              "      <td>0.000000</td>\n",
              "      <td>3.165475</td>\n",
              "    </tr>\n",
              "    <tr>\n",
              "      <th>18281.0</th>\n",
              "      <td>5.192957</td>\n",
              "      <td>0.000000</td>\n",
              "      <td>1.617406</td>\n",
              "    </tr>\n",
              "    <tr>\n",
              "      <th>18282.0</th>\n",
              "      <td>4.836282</td>\n",
              "      <td>0.000000</td>\n",
              "      <td>2.545531</td>\n",
              "    </tr>\n",
              "    <tr>\n",
              "      <th>18283.0</th>\n",
              "      <td>4.553877</td>\n",
              "      <td>1.945910</td>\n",
              "      <td>3.582129</td>\n",
              "    </tr>\n",
              "    <tr>\n",
              "      <th>18287.0</th>\n",
              "      <td>5.303305</td>\n",
              "      <td>0.000000</td>\n",
              "      <td>2.322388</td>\n",
              "    </tr>\n",
              "  </tbody>\n",
              "</table>\n",
              "<p>2864 rows × 3 columns</p>\n",
              "</div>"
            ],
            "text/plain": [
              "             Recency  Frequency  Monetary\n",
              "CustomerID                               \n",
              "12747.0     4.691348   1.609438  5.256714\n",
              "12748.0     4.248495   4.564348  6.960756\n",
              "12749.0     4.867534   1.098612  4.204693\n",
              "12820.0     4.304065   0.000000  2.708050\n",
              "12821.0     5.365976   0.000000  2.991724\n",
              "...              ...        ...       ...\n",
              "18280.0     5.624018   0.000000  3.165475\n",
              "18281.0     5.192957   0.000000  1.617406\n",
              "18282.0     4.836282   0.000000  2.545531\n",
              "18283.0     4.553877   1.945910  3.582129\n",
              "18287.0     5.303305   0.000000  2.322388\n",
              "\n",
              "[2864 rows x 3 columns]"
            ]
          },
          "execution_count": 58,
          "metadata": {},
          "output_type": "execute_result"
        }
      ],
      "source": [
        "df_log"
      ]
    },
    {
      "cell_type": "code",
      "execution_count": null,
      "id": "b97a91c1",
      "metadata": {
        "id": "b97a91c1",
        "outputId": "5f8d533e-2ffb-4e8b-ad5e-f317881faeb3"
      },
      "outputs": [
        {
          "data": {
            "text/html": [
              "<div>\n",
              "<style scoped>\n",
              "    .dataframe tbody tr th:only-of-type {\n",
              "        vertical-align: middle;\n",
              "    }\n",
              "\n",
              "    .dataframe tbody tr th {\n",
              "        vertical-align: top;\n",
              "    }\n",
              "\n",
              "    .dataframe thead th {\n",
              "        text-align: right;\n",
              "    }\n",
              "</style>\n",
              "<table border=\"1\" class=\"dataframe\">\n",
              "  <thead>\n",
              "    <tr style=\"text-align: right;\">\n",
              "      <th></th>\n",
              "      <th>Recency</th>\n",
              "      <th>Frequency</th>\n",
              "      <th>Monetary</th>\n",
              "      <th>cluster_id</th>\n",
              "    </tr>\n",
              "    <tr>\n",
              "      <th>CustomerID</th>\n",
              "      <th></th>\n",
              "      <th></th>\n",
              "      <th></th>\n",
              "      <th></th>\n",
              "    </tr>\n",
              "  </thead>\n",
              "  <tbody>\n",
              "    <tr>\n",
              "      <th>12747.0</th>\n",
              "      <td>4.691348</td>\n",
              "      <td>1.609438</td>\n",
              "      <td>5.256714</td>\n",
              "      <td>0</td>\n",
              "    </tr>\n",
              "    <tr>\n",
              "      <th>12748.0</th>\n",
              "      <td>4.248495</td>\n",
              "      <td>4.564348</td>\n",
              "      <td>6.960756</td>\n",
              "      <td>0</td>\n",
              "    </tr>\n",
              "    <tr>\n",
              "      <th>12749.0</th>\n",
              "      <td>4.867534</td>\n",
              "      <td>1.098612</td>\n",
              "      <td>4.204693</td>\n",
              "      <td>0</td>\n",
              "    </tr>\n",
              "    <tr>\n",
              "      <th>12820.0</th>\n",
              "      <td>4.304065</td>\n",
              "      <td>0.000000</td>\n",
              "      <td>2.708050</td>\n",
              "      <td>1</td>\n",
              "    </tr>\n",
              "    <tr>\n",
              "      <th>12821.0</th>\n",
              "      <td>5.365976</td>\n",
              "      <td>0.000000</td>\n",
              "      <td>2.991724</td>\n",
              "      <td>1</td>\n",
              "    </tr>\n",
              "    <tr>\n",
              "      <th>...</th>\n",
              "      <td>...</td>\n",
              "      <td>...</td>\n",
              "      <td>...</td>\n",
              "      <td>...</td>\n",
              "    </tr>\n",
              "    <tr>\n",
              "      <th>18280.0</th>\n",
              "      <td>5.624018</td>\n",
              "      <td>0.000000</td>\n",
              "      <td>3.165475</td>\n",
              "      <td>1</td>\n",
              "    </tr>\n",
              "    <tr>\n",
              "      <th>18281.0</th>\n",
              "      <td>5.192957</td>\n",
              "      <td>0.000000</td>\n",
              "      <td>1.617406</td>\n",
              "      <td>1</td>\n",
              "    </tr>\n",
              "    <tr>\n",
              "      <th>18282.0</th>\n",
              "      <td>4.836282</td>\n",
              "      <td>0.000000</td>\n",
              "      <td>2.545531</td>\n",
              "      <td>1</td>\n",
              "    </tr>\n",
              "    <tr>\n",
              "      <th>18283.0</th>\n",
              "      <td>4.553877</td>\n",
              "      <td>1.945910</td>\n",
              "      <td>3.582129</td>\n",
              "      <td>0</td>\n",
              "    </tr>\n",
              "    <tr>\n",
              "      <th>18287.0</th>\n",
              "      <td>5.303305</td>\n",
              "      <td>0.000000</td>\n",
              "      <td>2.322388</td>\n",
              "      <td>1</td>\n",
              "    </tr>\n",
              "  </tbody>\n",
              "</table>\n",
              "<p>2864 rows × 4 columns</p>\n",
              "</div>"
            ],
            "text/plain": [
              "             Recency  Frequency  Monetary  cluster_id\n",
              "CustomerID                                           \n",
              "12747.0     4.691348   1.609438  5.256714           0\n",
              "12748.0     4.248495   4.564348  6.960756           0\n",
              "12749.0     4.867534   1.098612  4.204693           0\n",
              "12820.0     4.304065   0.000000  2.708050           1\n",
              "12821.0     5.365976   0.000000  2.991724           1\n",
              "...              ...        ...       ...         ...\n",
              "18280.0     5.624018   0.000000  3.165475           1\n",
              "18281.0     5.192957   0.000000  1.617406           1\n",
              "18282.0     4.836282   0.000000  2.545531           1\n",
              "18283.0     4.553877   1.945910  3.582129           0\n",
              "18287.0     5.303305   0.000000  2.322388           1\n",
              "\n",
              "[2864 rows x 4 columns]"
            ]
          },
          "execution_count": 59,
          "metadata": {},
          "output_type": "execute_result"
        }
      ],
      "source": [
        "#assigning the labels\n",
        "df_log['cluster_id'] = kmeans.labels_\n",
        "df_log"
      ]
    },
    {
      "cell_type": "code",
      "execution_count": null,
      "id": "8cb8814b",
      "metadata": {
        "id": "8cb8814b",
        "outputId": "4bb53b6e-026c-404b-91ef-340fc7de1735"
      },
      "outputs": [
        {
          "data": {
            "text/plain": [
              "1    1764\n",
              "0    1100\n",
              "Name: cluster_id, dtype: int64"
            ]
          },
          "execution_count": 60,
          "metadata": {},
          "output_type": "execute_result"
        }
      ],
      "source": [
        "df_log['cluster_id'].value_counts()"
      ]
    },
    {
      "cell_type": "markdown",
      "id": "b8389d01",
      "metadata": {
        "id": "b8389d01"
      },
      "source": [
        "The model classified CustomerID into two clusters 1100 are in the cluster_id 0 and 1764 are in cluster id 1."
      ]
    },
    {
      "cell_type": "code",
      "execution_count": null,
      "id": "013806c8",
      "metadata": {
        "id": "013806c8",
        "outputId": "ea04c44f-7680-40f1-f3aa-2aee4ce5adf0"
      },
      "outputs": [
        {
          "data": {
            "image/png": "[encoded data removed]",
            "text/plain": [
              "<Figure size 360x360 with 1 Axes>"
            ]
          },
          "metadata": {
            "needs_background": "light"
          },
          "output_type": "display_data"
        }
      ],
      "source": [
        "#plotting graph to classify customerID into cluster based on frequency\n",
        "plt.figure(figsize=(5,5))\n",
        "sns.scatterplot(data=df_log, x='CustomerID', y='Frequency', hue='cluster_id')\n",
        "plt.title('Distribution of clusters based on Frequency')\n",
        "plt.show()"
      ]
    },
    {
      "cell_type": "markdown",
      "id": "aced0263",
      "metadata": {
        "id": "aced0263"
      },
      "source": [
        "we see from above graph customerID with low buying frequency are placed in cluster_id 1 and customerID with high frequency beong to cluster 0"
      ]
    },
    {
      "cell_type": "code",
      "execution_count": null,
      "id": "c7bb7138",
      "metadata": {
        "id": "c7bb7138",
        "outputId": "9483a246-133c-4dcb-aa95-a3d7490abe71"
      },
      "outputs": [
        {
          "data": {
            "image/png": "[encoded data removed]",
            "text/plain": [
              "<Figure size 360x360 with 1 Axes>"
            ]
          },
          "metadata": {
            "needs_background": "light"
          },
          "output_type": "display_data"
        }
      ],
      "source": [
        "#plotting graph to classify customerID into cluster based on Monetary\n",
        "plt.figure(figsize=(5,5))\n",
        "sns.scatterplot(data=df_log, x='CustomerID', y='Monetary', hue='cluster_id')\n",
        "plt.title('Distribution of clusters')\n",
        "plt.show()"
      ]
    },
    {
      "cell_type": "markdown",
      "id": "f4efeb16",
      "metadata": {
        "id": "f4efeb16"
      },
      "source": [
        "customerID with low monetary value are placed in cluster_id 1 and customerID with high monetary value are pllaced in cluster_id 0"
      ]
    },
    {
      "cell_type": "code",
      "execution_count": null,
      "id": "132cf3f3",
      "metadata": {
        "id": "132cf3f3",
        "outputId": "0ad08918-20b8-40b0-a012-df6f78417304"
      },
      "outputs": [
        {
          "data": {
            "image/png": "[encoded data removed]",
            "text/plain": [
              "<Figure size 360x360 with 1 Axes>"
            ]
          },
          "metadata": {
            "needs_background": "light"
          },
          "output_type": "display_data"
        }
      ],
      "source": [
        "#plotting graph to classify customerID into cluster based on Recency\n",
        "plt.figure(figsize=(5,5))\n",
        "sns.scatterplot(data=df_log, x='CustomerID', y='Recency', hue='cluster_id')\n",
        "plt.title('Distribution of clusters based on Recency ')\n",
        "plt.show()"
      ]
    },
    {
      "cell_type": "markdown",
      "id": "7d8da4a8",
      "metadata": {
        "id": "7d8da4a8"
      },
      "source": [
        "There is no clear distinction between cluster based on recency but still customers with low recency are grouped towards both cluster_id 0 & 1  where as customer with high recency are more grouped in cluster_id 1"
      ]
    },
    {
      "cell_type": "markdown",
      "id": "513d245c",
      "metadata": {
        "id": "513d245c"
      },
      "source": [
        "From all the graph we see the k-means has created two clusters for CustomerID 0 and 1.<br>\n",
        "Customers with relatively high frequency of buying, high monetary value who purchased recently are grouped in cluster 0.\n",
        "Customers with relatively low frequency of buying, low monetary value some of them purchased recently while for some its relatively long time are placed in cluster 1."
      ]
    },
    {
      "cell_type": "code",
      "execution_count": null,
      "id": "13768652",
      "metadata": {
        "id": "13768652"
      },
      "outputs": [],
      "source": []
    }
  ],
  "metadata": {
    "kernelspec": {
      "display_name": "Python 3 (ipykernel)",
      "language": "python",
      "name": "python3"
    },
    "language_info": {
      "codemirror_mode": {
        "name": "ipython",
        "version": 3
      },
      "file_extension": ".py",
      "mimetype": "text/x-python",
      "name": "python",
      "nbconvert_exporter": "python",
      "pygments_lexer": "ipython3",
      "version": "3.9.7"
    },
    "colab": {
      "provenance": [],
      "include_colab_link": true
    }
  },
  "nbformat": 4,
  "nbformat_minor": 5
}